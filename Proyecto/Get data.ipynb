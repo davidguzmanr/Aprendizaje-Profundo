{
 "cells": [
  {
   "cell_type": "code",
   "execution_count": 1,
   "id": "91f6ce9d",
   "metadata": {},
   "outputs": [],
   "source": [
    "import gdown\n",
    "import pandas as pd"
   ]
  },
  {
   "cell_type": "markdown",
   "id": "158fe909",
   "metadata": {},
   "source": [
    "Descargamos las imágenes desde Drive y las descomprimimos en la carpeta `data`."
   ]
  },
  {
   "cell_type": "code",
   "execution_count": 5,
   "id": "b48ee441",
   "metadata": {},
   "outputs": [
    {
     "name": "stderr",
     "output_type": "stream",
     "text": [
      "Cached Downloading: data/images.zip\n",
      "Downloading...\n",
      "From: https://drive.google.com/uc?id=1Ew0LVu147rUdQG2_jpkpsICTeRPK5uwd\n",
      "To: /home/david/.cache/gdown/tmpigffoxx7/dl\n",
      "152MB [01:55, 1.32MB/s] \n"
     ]
    },
    {
     "data": {
      "text/plain": [
       "'data/images.zip'"
      ]
     },
     "execution_count": 5,
     "metadata": {},
     "output_type": "execute_result"
    }
   ],
   "source": [
    "url = 'https://drive.google.com/uc?id=1Ew0LVu147rUdQG2_jpkpsICTeRPK5uwd'\n",
    "output = 'data/images.zip'\n",
    "gdown.cached_download(url, output, quiet=False, postprocess=gdown.extractall)"
   ]
  },
  {
   "cell_type": "markdown",
   "id": "53f34362",
   "metadata": {},
   "source": [
    "Borramos el zip."
   ]
  },
  {
   "cell_type": "code",
   "execution_count": 6,
   "id": "ca7101de",
   "metadata": {},
   "outputs": [],
   "source": [
    "!rm data/images.zip"
   ]
  }
 ],
 "metadata": {
  "kernelspec": {
   "display_name": "Python 3",
   "language": "python",
   "name": "python3"
  },
  "language_info": {
   "codemirror_mode": {
    "name": "ipython",
    "version": 3
   },
   "file_extension": ".py",
   "mimetype": "text/x-python",
   "name": "python",
   "nbconvert_exporter": "python",
   "pygments_lexer": "ipython3",
   "version": "3.7.3"
  }
 },
 "nbformat": 4,
 "nbformat_minor": 5
}
