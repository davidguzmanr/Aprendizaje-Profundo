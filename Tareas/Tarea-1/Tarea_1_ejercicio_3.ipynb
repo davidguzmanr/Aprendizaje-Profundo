{
  "nbformat": 4,
  "nbformat_minor": 0,
  "metadata": {
    "colab": {
      "name": "Tarea_1_ejercicio_3.ipynb",
      "provenance": [],
      "authorship_tag": "ABX9TyOAOxy3E6HMkeCxKoQHUti/",
      "include_colab_link": true
    },
    "kernelspec": {
      "name": "python3",
      "display_name": "Python 3"
    },
    "language_info": {
      "name": "python"
    }
  },
  "cells": [
    {
      "cell_type": "markdown",
      "metadata": {
        "id": "view-in-github",
        "colab_type": "text"
      },
      "source": [
        "<a href=\"https://colab.research.google.com/github/davidguzmanr/Aprendizaje-Profundo/blob/main/Tareas/Tarea-1/Tarea_1_ejercicio_3.ipynb\" target=\"_parent\"><img src=\"https://colab.research.google.com/assets/colab-badge.svg\" alt=\"Open In Colab\"/></a>"
      ]
    },
    {
      "cell_type": "markdown",
      "metadata": {
        "id": "uq2Fk6KVnjX5"
      },
      "source": [
        "# Tarea 1: perceptrón y redes densas\n",
        "\n",
        "- **E. David Guzmán Ramírez**\n",
        "- **Introducción al Aprendizaje Profundo 2021-II**\n",
        "- **Licenciatura en Ciencia de Datos CU UNAM**"
      ]
    },
    {
      "cell_type": "code",
      "metadata": {
        "id": "dn0AcOionkaF"
      },
      "source": [
        "import numpy as np\n",
        "import pandas as pd\n",
        "import matplotlib.pyplot as plt\n",
        "from matplotlib.colors import ListedColormap\n",
        "import seaborn as sns\n",
        "\n",
        "import torch\n",
        "import torch.nn as nn\n",
        "import torch.optim as optim\n",
        "from tqdm import trange, tqdm\n",
        "\n",
        "sns.set_style('darkgrid')"
      ],
      "execution_count": 2,
      "outputs": []
    },
    {
      "cell_type": "markdown",
      "metadata": {
        "id": "fwOzTqNYnxuM"
      },
      "source": [
        "## Ejercicio 3\n",
        "\n",
        "Entrena una red completamente conectada para aproximar la compuerta XOR (puedes usar todas las herramientas de PyTorch). (3 puntos)\n"
      ]
    },
    {
      "cell_type": "markdown",
      "metadata": {
        "id": "RAZ3C9sjn0YA"
      },
      "source": [
        "**Solución.** Como vimos la compuerta XOR ($\\oplus$) es no lineal, de modo que no la podemos aproximar con un solo perceptrón, pero podemos agregar neuronas y/o apilar varias capas.\n",
        "\n",
        "| $x_1$ | $x_2$ | $y$ |\n",
        "|-------|-------|-----|\n",
        "| 0     | 0     | 0   |\n",
        "| 0     | 1     | 1   |\n",
        "| 1     | 0     | 1   |\n",
        "| 1     | 1     | 0   |"
      ]
    },
    {
      "cell_type": "code",
      "metadata": {
        "id": "TDcWlrCTn27j"
      },
      "source": [
        "class XOR(nn.Module):\n",
        "    def __init__(self):\n",
        "        super(XOR, self).__init__()\n",
        "        self.fc = nn.Sequential(\n",
        "            nn.Linear(2, 4),\n",
        "            nn.ReLU(),\n",
        "            nn.Linear(4, 1),\n",
        "            nn.ReLU(),\n",
        "        )\n",
        "\n",
        "    def forward(self, x):\n",
        "        return self.fc(x)"
      ],
      "execution_count": 3,
      "outputs": []
    },
    {
      "cell_type": "code",
      "metadata": {
        "id": "Bx7Cww0OoAP4"
      },
      "source": [
        "def train(model, X, y, lr=0.01, epochs=1000):\n",
        "    # Función de pérdida, error cuadrático medio (mean squared error), \n",
        "    # posteriormente usaré un umbral para hacer la clasificación en 0 o 1.\n",
        "    criterion = nn.MSELoss()\n",
        "    # Optimizador\n",
        "    opt = optim.SGD(model.parameters(), lr=lr)\n",
        "\n",
        "    losses = []\n",
        "    for epoch in trange(epochs):\n",
        "        loss_epoch = []\n",
        "        for x, y_true in zip(X, y):\n",
        "            y_pred = model(x)  # predecimos\n",
        "            loss = criterion(y_pred, y_true) # calculamos el error\n",
        "            loss_epoch.append(loss.item())\n",
        "            \n",
        "            opt.zero_grad() # vaciamos los gradientes\n",
        "            loss.backward() # retropropagamos\n",
        "            opt.step()      # actualizamos parámetros\n",
        "        \n",
        "        losses.append(np.mean(loss_epoch))\n",
        "\n",
        "    return losses"
      ],
      "execution_count": 4,
      "outputs": []
    },
    {
      "cell_type": "code",
      "metadata": {
        "colab": {
          "base_uri": "https://localhost:8080/"
        },
        "id": "QGWa2qUwnt9D",
        "outputId": "9730209b-7ece-4307-e7e0-e9abbdf0c5a2"
      },
      "source": [
        "torch.manual_seed(0)\n",
        "\n",
        "# Definimos nuestro modelo y probamos con unos datos sintéticos\n",
        "model = XOR()\n",
        "x = torch.zeros(1,2)\n",
        "model(x)"
      ],
      "execution_count": 5,
      "outputs": [
        {
          "output_type": "execute_result",
          "data": {
            "text/plain": [
              "tensor([[0.1357]], grad_fn=<ReluBackward0>)"
            ]
          },
          "metadata": {
            "tags": []
          },
          "execution_count": 5
        }
      ]
    },
    {
      "cell_type": "code",
      "metadata": {
        "colab": {
          "base_uri": "https://localhost:8080/"
        },
        "id": "JXkTiy9nn-AD",
        "outputId": "db6f4e9e-3279-4516-80f7-27996b50ed19"
      },
      "source": [
        "X_xor = torch.tensor([[0,0], [0,1], [1,0], [1,1]], dtype=torch.float32)\n",
        "y_xor = torch.tensor([[0], [1], [1], [0]], dtype=torch.float32)\n",
        "\n",
        "# Entrenamos\n",
        "losses = train(model, X_xor, y_xor, epochs=1000, lr=0.01)"
      ],
      "execution_count": 6,
      "outputs": [
        {
          "output_type": "stream",
          "text": [
            "100%|██████████| 1000/1000 [00:01<00:00, 638.93it/s]\n"
          ],
          "name": "stderr"
        }
      ]
    },
    {
      "cell_type": "code",
      "metadata": {
        "colab": {
          "base_uri": "https://localhost:8080/",
          "height": 390
        },
        "id": "ZH8d4rdFoKL7",
        "outputId": "76440786-89c4-45b0-b0f7-8b1f6efbaa19"
      },
      "source": [
        "plt.figure(figsize=(10,6))\n",
        "plt.plot(losses)\n",
        "plt.xlabel('Época', weight='bold')\n",
        "plt.ylabel('Error (cuadrático medio)', weight='bold')\n",
        "\n",
        "plt.show()"
      ],
      "execution_count": 7,
      "outputs": [
        {
          "output_type": "display_data",
          "data": {
            "image/png": "[encoded data removed]",
            "text/plain": [
              "<Figure size 720x432 with 1 Axes>"
            ]
          },
          "metadata": {
            "tags": []
          }
        }
      ]
    },
    {
      "cell_type": "markdown",
      "metadata": {
        "id": "oxTgi2BpxExz"
      },
      "source": [
        "Finalmente, aplicamos una función escalón que nos da el resultado que queremos."
      ]
    },
    {
      "cell_type": "code",
      "metadata": {
        "id": "1Qcv6RDsoR9U"
      },
      "source": [
        "def step(z):\n",
        "    \"\"\"Computes step function.\"\"\"\n",
        "    return 1.0 if z > 0.5 else 0.0\n",
        "\n",
        "step_vectorize = np.vectorize(step)"
      ],
      "execution_count": 8,
      "outputs": []
    },
    {
      "cell_type": "code",
      "metadata": {
        "colab": {
          "base_uri": "https://localhost:8080/"
        },
        "id": "pcErDIJjovto",
        "outputId": "d23bb407-2781-4783-984a-46760daef8ec"
      },
      "source": [
        "# predicción por cada ejemplo\n",
        "print('---------------------')\n",
        "print('x_1 \\tx_2 \\ty_hat')\n",
        "print('---------------------')\n",
        "for x in X_xor:\n",
        "    x1, x2 = x \n",
        "    y_hat = step(model(x))\n",
        "    print(f'{x1}\\t{x2}\\t{y_hat}')"
      ],
      "execution_count": 9,
      "outputs": [
        {
          "output_type": "stream",
          "text": [
            "---------------------\n",
            "x_1 \tx_2 \ty_hat\n",
            "---------------------\n",
            "0.0\t0.0\t0.0\n",
            "0.0\t1.0\t1.0\n",
            "1.0\t0.0\t1.0\n",
            "1.0\t1.0\t0.0\n"
          ],
          "name": "stdout"
        }
      ]
    },
    {
      "cell_type": "markdown",
      "metadata": {
        "id": "cfGt5jCpo3SP"
      },
      "source": [
        "Ahora veamos cómo está clasificando, vemos que en efecto es no lineal, pues no hay manera de obtener estas regiones usando únicamente una línea.\n",
        "\n",
        "<!-- ([Tensorflow playground](https://playground.tensorflow.org/)). -->"
      ]
    },
    {
      "cell_type": "code",
      "metadata": {
        "colab": {
          "base_uri": "https://localhost:8080/",
          "height": 388
        },
        "id": "9G96JxqwoweD",
        "outputId": "c20733cb-3960-4671-f9fc-fdf1562f25a0"
      },
      "source": [
        "X1, X2 = np.meshgrid(np.arange(start=-0.2, stop=1.2, step=0.01), np.arange(start=-0.2, stop=1.2, step=0.01))\n",
        "Z = model(torch.tensor(np.array([X1.ravel(), X2.ravel()]).T, dtype=torch.float32)).reshape(X1.shape)\n",
        "Z = step_vectorize(Z.detach().numpy())\n",
        "\n",
        "plt.figure(figsize=(10,6))\n",
        "plt.contourf(X1, X2, Z, alpha=0.2, cmap=ListedColormap(('orange', 'blue')))\n",
        "plt.scatter([0,1], [0,1], color='orange', label='0')\n",
        "plt.scatter([0,1], [1,0], color='blue', label='1')\n",
        "\n",
        "plt.xlabel('X1', weight='bold')\n",
        "plt.ylabel('X2', weight='bold')\n",
        "plt.legend()\n",
        "plt.show()"
      ],
      "execution_count": 10,
      "outputs": [
        {
          "output_type": "display_data",
          "data": {
            "image/png": "[encoded data removed]",
            "text/plain": [
              "<Figure size 720x432 with 1 Axes>"
            ]
          },
          "metadata": {
            "tags": []
          }
        }
      ]
    },
    {
      "cell_type": "code",
      "metadata": {
        "id": "hcVgc0bKo1wr"
      },
      "source": [
        ""
      ],
      "execution_count": 10,
      "outputs": []
    }
  ]
}