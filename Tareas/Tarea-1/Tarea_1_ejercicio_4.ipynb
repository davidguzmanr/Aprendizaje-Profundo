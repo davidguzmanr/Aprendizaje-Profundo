{
  "nbformat": 4,
  "nbformat_minor": 0,
  "metadata": {
    "colab": {
      "name": "Tarea_1_ejercicio_4.ipynb",
      "provenance": [],
      "authorship_tag": "ABX9TyNGhfGK0pgeukpqZY86OD8e",
      "include_colab_link": true
    },
    "kernelspec": {
      "name": "python3",
      "display_name": "Python 3"
    },
    "language_info": {
      "name": "python"
    }
  },
  "cells": [
    {
      "cell_type": "markdown",
      "metadata": {
        "id": "view-in-github",
        "colab_type": "text"
      },
      "source": [
        "<a href=\"https://colab.research.google.com/github/davidguzmanr/Aprendizaje-Profundo/blob/main/Tareas/Tarea-1/Tarea_1_ejercicio_4.ipynb\" target=\"_parent\"><img src=\"https://colab.research.google.com/assets/colab-badge.svg\" alt=\"Open In Colab\"/></a>"
      ]
    },
    {
      "cell_type": "markdown",
      "metadata": {
        "id": "GdNrcxTfpTyn"
      },
      "source": [
        "# Tarea 1: perceptrón y redes densas\n",
        "\n",
        "- **E. David Guzmán Ramírez**\n",
        "- **Introducción al Aprendizaje Profundo 2021-II**\n",
        "- **Licenciatura en Ciencia de Datos CU UNAM**"
      ]
    },
    {
      "cell_type": "code",
      "metadata": {
        "colab": {
          "base_uri": "https://localhost:8080/"
        },
        "id": "q6MyWFzspWdk",
        "outputId": "c93a57bd-14b3-49cf-c9a7-feded2fb3213"
      },
      "source": [
        "!pip install torchinfo"
      ],
      "execution_count": 1,
      "outputs": [
        {
          "output_type": "stream",
          "text": [
            "Requirement already satisfied: torchinfo in /usr/local/lib/python3.7/dist-packages (0.0.8)\n"
          ],
          "name": "stdout"
        }
      ]
    },
    {
      "cell_type": "code",
      "metadata": {
        "id": "z-st3As9pchc"
      },
      "source": [
        "import numpy as np\n",
        "import pandas as pd\n",
        "import matplotlib.pyplot as plt\n",
        "from matplotlib.colors import ListedColormap\n",
        "import seaborn as sns\n",
        "\n",
        "import torch\n",
        "import torch.nn as nn\n",
        "import torch.nn.functional as F\n",
        "import torch.optim as optim\n",
        "import torchvision\n",
        "import torchvision.transforms as transforms\n",
        "from torchinfo import summary\n",
        "\n",
        "from collections import Counter\n",
        "from itertools import islice as take\n",
        "from tqdm import trange, tqdm\n",
        "\n",
        "sns.set_style('darkgrid')"
      ],
      "execution_count": 2,
      "outputs": []
    },
    {
      "cell_type": "markdown",
      "metadata": {
        "id": "C_stj03_uptE"
      },
      "source": [
        "## Ejercicio 4\n",
        "\n",
        "Entrena una red completamente conectada para clasificación multiclase en el conjunto CIFAR10 (puedes usar todas las herramientas de PyTorch). (3 puntos)"
      ]
    },
    {
      "cell_type": "markdown",
      "metadata": {
        "id": "MKaVulAG0d-I"
      },
      "source": [
        "### Carga de datos y exploración"
      ]
    },
    {
      "cell_type": "markdown",
      "metadata": {
        "id": "gE3g65KburB2"
      },
      "source": [
        "**Solución.** (ver [CIFAR10 tutorial](https://pytorch.org/tutorials/beginner/blitz/cifar10_tutorial.html) para cargar el dataset)."
      ]
    },
    {
      "cell_type": "code",
      "metadata": {
        "colab": {
          "base_uri": "https://localhost:8080/"
        },
        "id": "5-o43f1WpgoM",
        "outputId": "b0d20880-9a79-4fc9-986f-012462924339"
      },
      "source": [
        "# Los pasa a tensores y las normaliza con media=0.5 y desv_est=0.5 en cada canal.\n",
        "transform = transforms.Compose([transforms.ToTensor(), transforms.Normalize((0.5, 0.5, 0.5), (0.5, 0.5, 0.5))])\n",
        "\n",
        "trainset = torchvision.datasets.CIFAR10(root='./data', train=True, download=True, transform=transform)\n",
        "trainloader = torch.utils.data.DataLoader(trainset, batch_size=4, shuffle=True, num_workers=2)\n",
        "\n",
        "testset = torchvision.datasets.CIFAR10(root='./data', train=False, download=True, transform=transform)\n",
        "testloader = torch.utils.data.DataLoader(testset, batch_size=4, shuffle=True, num_workers=2)\n",
        "\n",
        "classes = ['plane', 'car', 'bird', 'cat', 'deer', 'dog', 'frog', 'horse', 'ship', 'truck']\n",
        "classes_dict = dict(zip(range(0,10), classes))"
      ],
      "execution_count": 3,
      "outputs": [
        {
          "output_type": "stream",
          "text": [
            "Files already downloaded and verified\n",
            "Files already downloaded and verified\n"
          ],
          "name": "stdout"
        }
      ]
    },
    {
      "cell_type": "markdown",
      "metadata": {
        "id": "fwPEJiynpuSJ"
      },
      "source": [
        "Vemos que hay 50,000 imágenes en el dataset de entrenamiento y 10,000 en el de prueba. Además, tanto en el dataset de entrenamiento como el de prueba las clases están completamente balanceadas."
      ]
    },
    {
      "cell_type": "code",
      "metadata": {
        "colab": {
          "base_uri": "https://localhost:8080/"
        },
        "id": "Z1ecNWaEpm1C",
        "outputId": "6b3296f6-dd5f-4c45-b76d-93d72c0d85ad"
      },
      "source": [
        "len(trainset), len(testset)"
      ],
      "execution_count": 4,
      "outputs": [
        {
          "output_type": "execute_result",
          "data": {
            "text/plain": [
              "(50000, 10000)"
            ]
          },
          "metadata": {
            "tags": []
          },
          "execution_count": 4
        }
      ]
    },
    {
      "cell_type": "code",
      "metadata": {
        "colab": {
          "base_uri": "https://localhost:8080/"
        },
        "id": "sOWIIqvYrQdx",
        "outputId": "8dc46815-ad5d-4ddb-be0e-fd059c083235"
      },
      "source": [
        "train_class_counter = Counter([classes_dict[y] for (x, y) in trainset])\n",
        "train_class_counter"
      ],
      "execution_count": 5,
      "outputs": [
        {
          "output_type": "execute_result",
          "data": {
            "text/plain": [
              "Counter({'bird': 5000,\n",
              "         'car': 5000,\n",
              "         'cat': 5000,\n",
              "         'deer': 5000,\n",
              "         'dog': 5000,\n",
              "         'frog': 5000,\n",
              "         'horse': 5000,\n",
              "         'plane': 5000,\n",
              "         'ship': 5000,\n",
              "         'truck': 5000})"
            ]
          },
          "metadata": {
            "tags": []
          },
          "execution_count": 5
        }
      ]
    },
    {
      "cell_type": "code",
      "metadata": {
        "colab": {
          "base_uri": "https://localhost:8080/"
        },
        "id": "Zu6Z_L8KsQq8",
        "outputId": "90896ded-c291-4094-929d-e0f9d436e023"
      },
      "source": [
        "test_class_counter = Counter([classes_dict[y] for (x, y) in testset])\n",
        "test_class_counter"
      ],
      "execution_count": 6,
      "outputs": [
        {
          "output_type": "execute_result",
          "data": {
            "text/plain": [
              "Counter({'bird': 1000,\n",
              "         'car': 1000,\n",
              "         'cat': 1000,\n",
              "         'deer': 1000,\n",
              "         'dog': 1000,\n",
              "         'frog': 1000,\n",
              "         'horse': 1000,\n",
              "         'plane': 1000,\n",
              "         'ship': 1000,\n",
              "         'truck': 1000})"
            ]
          },
          "metadata": {
            "tags": []
          },
          "execution_count": 6
        }
      ]
    },
    {
      "cell_type": "markdown",
      "metadata": {
        "id": "vYerszfrs16u"
      },
      "source": [
        "Ahora veamos algunas imágenes en el dataset."
      ]
    },
    {
      "cell_type": "code",
      "metadata": {
        "id": "0KBm0Tduu73s"
      },
      "source": [
        "def show_images(images, true_labels, pred_labels=None):\n",
        "    \"\"\"\n",
        "    Muestra un lote de imágenes con su respectiva clase.\n",
        "    \"\"\"\n",
        "\n",
        "    fig, axes = plt.subplots(nrows=1, ncols=4, figsize=(20,5))\n",
        "\n",
        "    for i, _ in enumerate(axes):\n",
        "        axes[i].imshow(images[i].permute(1,2,0).numpy()/2 + 0.5) # Desnormalizamos\n",
        "        axes[i].axis('off')\n",
        "\n",
        "    if pred_labels:\n",
        "        for i, _ in enumerate(axes):\n",
        "            axes[i].set_title(f'true_label={classes_dict[true_labels[i].item()]}\\npred_label={classes_dict[pred_labels[i].item()]}')\n",
        "    else:\n",
        "        for i, _ in enumerate(axes):\n",
        "            axes[i].set_title(f'true_label={classes_dict[true_labels[i].item()]}')"
      ],
      "execution_count": 7,
      "outputs": []
    },
    {
      "cell_type": "code",
      "metadata": {
        "colab": {
          "base_uri": "https://localhost:8080/",
          "height": 290
        },
        "id": "uM_ARG7JyegM",
        "outputId": "d6023b19-7521-417b-ddf4-9cd31f3e8fb5"
      },
      "source": [
        "images, true_labels = next(iter(trainloader))\n",
        "show_images(images, true_labels)"
      ],
      "execution_count": 8,
      "outputs": [
        {
          "output_type": "display_data",
          "data": {
            "image/png": "[encoded data removed]",
            "text/plain": [
              "<Figure size 1440x360 with 4 Axes>"
            ]
          },
          "metadata": {
            "tags": []
          }
        }
      ]
    },
    {
      "cell_type": "markdown",
      "metadata": {
        "id": "IT5vVl-Q0Zn0"
      },
      "source": [
        "### Definición del modelo"
      ]
    },
    {
      "cell_type": "markdown",
      "metadata": {
        "id": "aG9GwfT7ytye"
      },
      "source": [
        "Ahora definimos nuestro modelo, como estamos *aplanando* una imagen de $32 \\times 32 \\times 3$ la capa inicial es muy grande y en consecuencia tendremos muchos parámetros, por lo que es conveniente que las siguientes capas no sean muy grandes para que no haya tantos parámetros."
      ]
    },
    {
      "cell_type": "code",
      "metadata": {
        "id": "ecZWNwDzprb3"
      },
      "source": [
        "class FCN(nn.Module):\n",
        "    # inicializador\n",
        "    def __init__(self):        \n",
        "        # inicilización del objeto padre\n",
        "        super(FCN, self).__init__()\n",
        "        \n",
        "        # tamaño de las capas\n",
        "        self.I = 3 * 32 * 32\n",
        "        FC1, FC2 = 16, 10\n",
        "        \n",
        "        # definición de capas\n",
        "        self.cls = nn.Sequential(            \n",
        "            # fc1\n",
        "            # [M, 3x32x32] => [M, 16]\n",
        "            nn.Linear(self.I, FC1),\n",
        "            nn.ReLU(),\n",
        "            \n",
        "            # fc2\n",
        "            # [M, 16] => [M, 10]\n",
        "            nn.Linear(FC1, FC2),\n",
        "            nn.ReLU(),        \n",
        "        )\n",
        "    \n",
        "    # método para inferencia\n",
        "    def forward(self, x):\n",
        "        \n",
        "        # aplanamos los pixeles de la imagen\n",
        "        # [M, 3, 32, 32] => [M, 3x32x32]\n",
        "        x = x.view(-1, self.I)\n",
        "        \n",
        "        # inferencia\n",
        "        # [M, 10]\n",
        "        x = self.cls(x)\n",
        "        \n",
        "        return x"
      ],
      "execution_count": 9,
      "outputs": []
    },
    {
      "cell_type": "code",
      "metadata": {
        "id": "U1ee9WBVytRd"
      },
      "source": [
        "def train_epoch(dataloader, model, opt):\n",
        "\n",
        "    # por cada lote\n",
        "    for x, y_true in dataloader:\n",
        "        \n",
        "        # computamos logits\n",
        "        y_lgts = model(x)\n",
        "        \n",
        "        # computamos la pérdida\n",
        "        loss = F.cross_entropy(y_lgts, y_true)\n",
        "        \n",
        "        # vaciamos los gradientes\n",
        "        opt.zero_grad()\n",
        "        \n",
        "        # retropropagamos\n",
        "        loss.backward()\n",
        "        \n",
        "        # actualizamos parámetros\n",
        "        opt.step()"
      ],
      "execution_count": 10,
      "outputs": []
    },
    {
      "cell_type": "code",
      "metadata": {
        "id": "tyHh2pc9s5qw"
      },
      "source": [
        "def eval_epoch(dl, model, num_batches=None):\n",
        "\n",
        "    # evitamos que se registren las operaciones \n",
        "    # en la gráfica de cómputo\n",
        "    with torch.no_grad():\n",
        "\n",
        "        # historiales\n",
        "        losses, accs = [], []\n",
        "\n",
        "        # validación de la época con num_batches\n",
        "        # si num_batches==None, se usan todos los lotes\n",
        "        for x, y_true in take(dl, num_batches):\n",
        "\n",
        "            # computamos los logits\n",
        "            y_lgts = model(x)\n",
        "\n",
        "            # computamos los puntajes\n",
        "            y_prob = F.softmax(y_lgts, 1)\n",
        "\n",
        "            # computamos la clases\n",
        "            y_pred = torch.argmax(y_prob, 1)\n",
        "\n",
        "            # computamos la pérdida\n",
        "            loss = F.cross_entropy(y_lgts, y_true)\n",
        "\n",
        "            # computamos la exactitud\n",
        "            acc = (y_true == y_pred).type(torch.float32).mean()\n",
        "\n",
        "            # guardamos históricos\n",
        "            losses.append(loss.item())\n",
        "            accs.append(acc.item())\n",
        "\n",
        "        # promediamos\n",
        "        loss = np.mean(losses) * 100\n",
        "        acc = np.mean(accs) * 100\n",
        "\n",
        "        return loss, acc"
      ],
      "execution_count": 11,
      "outputs": []
    },
    {
      "cell_type": "code",
      "metadata": {
        "id": "6Rzu2QWVzjXm"
      },
      "source": [
        "def train(model, trn_dl, tst_dl, lr=1e-3, epochs=20, trn_batches=None, tst_batches=None):\n",
        "\n",
        "    # historiales\n",
        "    loss_hist, acc_hist = [], []\n",
        "    \n",
        "    # optimizador\n",
        "    opt = optim.SGD(model.parameters(), lr=lr)\n",
        "\n",
        "    # ciclo de entrenamiento\n",
        "    for epoch in trange(epochs):\n",
        "\n",
        "        # entrenamos la época\n",
        "        train_epoch(trn_dl, model, opt)\n",
        "\n",
        "        # evaluamos la época en entrenamiento\n",
        "        trn_loss, trn_acc = eval_epoch(trn_dl, model, trn_batches)\n",
        "        # evaluamos la época en prueba\n",
        "        tst_loss, tst_acc = eval_epoch(tst_dl, model, tst_batches)\n",
        "\n",
        "        # guardamos historial\n",
        "        loss_hist.append([trn_loss, tst_loss])\n",
        "        acc_hist.append([trn_acc, tst_acc])\n",
        "\n",
        "        # imprimimos progreso\n",
        "        print(f'E{epoch:02} '\n",
        "              f'loss=[{trn_loss:6.2f},{tst_loss:6.2f}] '\n",
        "              f'acc=[{trn_acc:5.2f},{tst_acc:5.2f}]')\n",
        "\n",
        "    return loss_hist, acc_hist"
      ],
      "execution_count": 12,
      "outputs": []
    },
    {
      "cell_type": "markdown",
      "metadata": {
        "id": "YpOSOhDdzplb"
      },
      "source": [
        "Instanciamos nuestro modelo y vemos cuántos parámetros tiene."
      ]
    },
    {
      "cell_type": "code",
      "metadata": {
        "colab": {
          "base_uri": "https://localhost:8080/"
        },
        "id": "CFe9LHfjzy2P",
        "outputId": "60eeecc1-27c0-428c-d5f5-a52e0315d99f"
      },
      "source": [
        "torch.manual_seed(42)\n",
        "\n",
        "# Definimos nuestro modelo y probamos con unos datos sintéticos\n",
        "model = FCN()\n",
        "x = torch.zeros(3*32*32)\n",
        "model(x)"
      ],
      "execution_count": 13,
      "outputs": [
        {
          "output_type": "execute_result",
          "data": {
            "text/plain": [
              "tensor([[0.0926, 0.0910, 0.0382, 0.0000, 0.0000, 0.0000, 0.0219, 0.0000, 0.0000,\n",
              "         0.0000]], grad_fn=<ReluBackward0>)"
            ]
          },
          "metadata": {
            "tags": []
          },
          "execution_count": 13
        }
      ]
    },
    {
      "cell_type": "code",
      "metadata": {
        "colab": {
          "base_uri": "https://localhost:8080/"
        },
        "id": "jN88fEHhzoQs",
        "outputId": "c9be3889-b834-436c-c72e-c841ad0fe044"
      },
      "source": [
        "summary(model, (3, 32, 32), device='cpu', verbose=0)"
      ],
      "execution_count": 14,
      "outputs": [
        {
          "output_type": "execute_result",
          "data": {
            "text/plain": [
              "==========================================================================================\n",
              "Layer (type:depth-idx)                   Output Shape              Param #\n",
              "==========================================================================================\n",
              "├─Sequential: 1-1                        [1, 10]                   --\n",
              "|    └─Linear: 2-1                       [1, 16]                   49,168\n",
              "|    └─ReLU: 2-2                         [1, 16]                   --\n",
              "|    └─Linear: 2-3                       [1, 10]                   170\n",
              "|    └─ReLU: 2-4                         [1, 10]                   --\n",
              "==========================================================================================\n",
              "Total params: 49,338\n",
              "Trainable params: 49,338\n",
              "Non-trainable params: 0\n",
              "Total mult-adds (M): 0.10\n",
              "==========================================================================================\n",
              "Input size (MB): 0.01\n",
              "Forward/backward pass size (MB): 0.00\n",
              "Params size (MB): 0.20\n",
              "Estimated Total Size (MB): 0.21\n",
              "=========================================================================================="
            ]
          },
          "metadata": {
            "tags": []
          },
          "execution_count": 14
        }
      ]
    },
    {
      "cell_type": "markdown",
      "metadata": {
        "id": "abS6Cs-I0o3O"
      },
      "source": [
        "### Entrenamiento"
      ]
    },
    {
      "cell_type": "code",
      "metadata": {
        "colab": {
          "base_uri": "https://localhost:8080/"
        },
        "id": "D-FAFlQ1zki8",
        "outputId": "e7e155e0-fc95-4a42-bd41-2bc126c0573c"
      },
      "source": [
        "# Entrenamos\n",
        "loss_hist, acc_hist = train(model, trainloader, testloader, lr=0.01)"
      ],
      "execution_count": 15,
      "outputs": [
        {
          "output_type": "stream",
          "text": [
            "  5%|▌         | 1/20 [01:29<28:16, 89.30s/it]"
          ],
          "name": "stderr"
        },
        {
          "output_type": "stream",
          "text": [
            "E00 loss=[173.61,175.61] acc=[39.36,38.79]\n"
          ],
          "name": "stdout"
        },
        {
          "output_type": "stream",
          "text": [
            "\r 10%|█         | 2/20 [02:57<26:41, 88.98s/it]"
          ],
          "name": "stderr"
        },
        {
          "output_type": "stream",
          "text": [
            "E01 loss=[170.26,174.18] acc=[40.55,39.00]\n"
          ],
          "name": "stdout"
        },
        {
          "output_type": "stream",
          "text": [
            "\r 15%|█▌        | 3/20 [04:27<25:19, 89.36s/it]"
          ],
          "name": "stderr"
        },
        {
          "output_type": "stream",
          "text": [
            "E02 loss=[166.71,172.81] acc=[42.19,39.86]\n"
          ],
          "name": "stdout"
        },
        {
          "output_type": "stream",
          "text": [
            "\r 20%|██        | 4/20 [05:56<23:47, 89.22s/it]"
          ],
          "name": "stderr"
        },
        {
          "output_type": "stream",
          "text": [
            "E03 loss=[164.50,172.16] acc=[42.53,39.55]\n"
          ],
          "name": "stdout"
        },
        {
          "output_type": "stream",
          "text": [
            "\r 25%|██▌       | 5/20 [07:26<22:19, 89.28s/it]"
          ],
          "name": "stderr"
        },
        {
          "output_type": "stream",
          "text": [
            "E04 loss=[164.20,171.60] acc=[42.93,40.29]\n"
          ],
          "name": "stdout"
        },
        {
          "output_type": "stream",
          "text": [
            "\r 30%|███       | 6/20 [08:55<20:51, 89.42s/it]"
          ],
          "name": "stderr"
        },
        {
          "output_type": "stream",
          "text": [
            "E05 loss=[163.07,171.81] acc=[43.30,40.52]\n"
          ],
          "name": "stdout"
        },
        {
          "output_type": "stream",
          "text": [
            "\r 35%|███▌      | 7/20 [10:27<19:31, 90.09s/it]"
          ],
          "name": "stderr"
        },
        {
          "output_type": "stream",
          "text": [
            "E06 loss=[162.07,171.92] acc=[43.49,40.53]\n"
          ],
          "name": "stdout"
        },
        {
          "output_type": "stream",
          "text": [
            "\r 40%|████      | 8/20 [11:56<17:55, 89.66s/it]"
          ],
          "name": "stderr"
        },
        {
          "output_type": "stream",
          "text": [
            "E07 loss=[164.69,175.09] acc=[42.82,39.15]\n"
          ],
          "name": "stdout"
        },
        {
          "output_type": "stream",
          "text": [
            "\r 45%|████▌     | 9/20 [13:24<16:21, 89.19s/it]"
          ],
          "name": "stderr"
        },
        {
          "output_type": "stream",
          "text": [
            "E08 loss=[153.15,164.09] acc=[46.61,43.62]\n"
          ],
          "name": "stdout"
        },
        {
          "output_type": "stream",
          "text": [
            "\r 50%|█████     | 10/20 [14:55<14:58, 89.84s/it]"
          ],
          "name": "stderr"
        },
        {
          "output_type": "stream",
          "text": [
            "E09 loss=[150.78,163.64] acc=[47.37,43.70]\n"
          ],
          "name": "stdout"
        },
        {
          "output_type": "stream",
          "text": [
            "\r 55%|█████▌    | 11/20 [16:25<13:27, 89.77s/it]"
          ],
          "name": "stderr"
        },
        {
          "output_type": "stream",
          "text": [
            "E10 loss=[147.84,161.85] acc=[47.81,42.60]\n"
          ],
          "name": "stdout"
        },
        {
          "output_type": "stream",
          "text": [
            "\r 60%|██████    | 12/20 [17:53<11:55, 89.41s/it]"
          ],
          "name": "stderr"
        },
        {
          "output_type": "stream",
          "text": [
            "E11 loss=[146.24,161.06] acc=[48.77,43.11]\n"
          ],
          "name": "stdout"
        },
        {
          "output_type": "stream",
          "text": [
            "\r 65%|██████▌   | 13/20 [19:23<10:27, 89.64s/it]"
          ],
          "name": "stderr"
        },
        {
          "output_type": "stream",
          "text": [
            "E12 loss=[148.23,163.02] acc=[48.39,43.74]\n"
          ],
          "name": "stdout"
        },
        {
          "output_type": "stream",
          "text": [
            "\r 70%|███████   | 14/20 [20:54<08:59, 89.84s/it]"
          ],
          "name": "stderr"
        },
        {
          "output_type": "stream",
          "text": [
            "E13 loss=[147.22,161.97] acc=[48.48,43.68]\n"
          ],
          "name": "stdout"
        },
        {
          "output_type": "stream",
          "text": [
            "\r 75%|███████▌  | 15/20 [22:25<07:30, 90.13s/it]"
          ],
          "name": "stderr"
        },
        {
          "output_type": "stream",
          "text": [
            "E14 loss=[144.26,161.28] acc=[49.24,43.66]\n"
          ],
          "name": "stdout"
        },
        {
          "output_type": "stream",
          "text": [
            "\r 80%|████████  | 16/20 [23:54<05:59, 89.90s/it]"
          ],
          "name": "stderr"
        },
        {
          "output_type": "stream",
          "text": [
            "E15 loss=[147.69,164.83] acc=[47.67,42.38]\n"
          ],
          "name": "stdout"
        },
        {
          "output_type": "stream",
          "text": [
            "\r 85%|████████▌ | 17/20 [25:25<04:30, 90.19s/it]"
          ],
          "name": "stderr"
        },
        {
          "output_type": "stream",
          "text": [
            "E16 loss=[145.19,163.72] acc=[48.78,43.13]\n"
          ],
          "name": "stdout"
        },
        {
          "output_type": "stream",
          "text": [
            "\r 90%|█████████ | 18/20 [26:54<02:59, 89.92s/it]"
          ],
          "name": "stderr"
        },
        {
          "output_type": "stream",
          "text": [
            "E17 loss=[146.12,165.50] acc=[48.46,42.88]\n"
          ],
          "name": "stdout"
        },
        {
          "output_type": "stream",
          "text": [
            "\r 95%|█████████▌| 19/20 [28:26<01:30, 90.39s/it]"
          ],
          "name": "stderr"
        },
        {
          "output_type": "stream",
          "text": [
            "E18 loss=[144.75,163.41] acc=[48.98,43.10]\n"
          ],
          "name": "stdout"
        },
        {
          "output_type": "stream",
          "text": [
            "100%|██████████| 20/20 [29:59<00:00, 89.96s/it]"
          ],
          "name": "stderr"
        },
        {
          "output_type": "stream",
          "text": [
            "E19 loss=[144.96,164.73] acc=[48.80,42.86]\n"
          ],
          "name": "stdout"
        },
        {
          "output_type": "stream",
          "text": [
            "\n"
          ],
          "name": "stderr"
        }
      ]
    },
    {
      "cell_type": "markdown",
      "metadata": {
        "id": "Usk_APqDA0oQ"
      },
      "source": [
        "  5%|▌         | 1/20 [01:25<26:57, 85.16s/it]E00 loss=[199.42,199.91] acc=[31.01,30.76]\n",
        " 10%|█         | 2/20 [02:48<25:22, 84.60s/it]E01 loss=[192.64,193.37] acc=[33.40,33.38]\n",
        " 15%|█▌        | 3/20 [04:14<24:03, 84.89s/it]E02 loss=[186.67,187.56] acc=[35.89,35.77]\n",
        " 20%|██        | 4/20 [05:39<22:41, 85.08s/it]E03 loss=[182.24,183.33] acc=[36.81,36.69]\n",
        " 25%|██▌       | 5/20 [07:02<21:08, 84.55s/it]E04 loss=[175.00,176.07] acc=[37.89,37.47]\n",
        " 30%|███       | 6/20 [08:30<19:55, 85.38s/it]E05 loss=[168.37,169.49] acc=[41.18,40.54]\n",
        " 35%|███▌      | 7/20 [09:56<18:35, 85.79s/it]E06 loss=[166.96,168.03] acc=[40.93,40.86]\n",
        " 40%|████      | 8/20 [11:23<17:12, 86.07s/it]E07 loss=[167.20,169.01] acc=[41.16,40.92]\n",
        " 45%|████▌     | 9/20 [12:49<15:45, 85.93s/it]E08 loss=[162.98,164.64] acc=[42.49,42.24]\n",
        " 50%|█████     | 10/20 [14:18<14:27, 86.78s/it]E09 loss=[163.45,165.54] acc=[42.09,41.66]\n",
        " 55%|█████▌    | 11/20 [15:46<13:04, 87.20s/it]E10 loss=[160.87,163.30] acc=[43.60,42.71]\n",
        " 60%|██████    | 12/20 [17:13<11:38, 87.29s/it]E11 loss=[160.85,163.25] acc=[43.57,42.48]\n",
        " 65%|██████▌   | 13/20 [18:43<10:16, 88.06s/it]E12 loss=[159.74,162.17] acc=[43.84,43.41]\n",
        " 70%|███████   | 14/20 [20:12<08:49, 88.18s/it]E13 loss=[158.67,161.65] acc=[43.91,43.22]\n",
        " 75%|███████▌  | 15/20 [21:39<07:19, 88.00s/it]E14 loss=[158.57,161.52] acc=[44.11,42.96]\n",
        " 80%|████████  | 16/20 [23:07<05:52, 88.12s/it]E15 loss=[154.94,158.22] acc=[45.82,44.33]\n",
        " 85%|████████▌ | 17/20 [24:38<04:26, 88.79s/it]E16 loss=[157.72,160.83] acc=[44.24,43.43]\n",
        " 90%|█████████ | 18/20 [26:08<02:58, 89.09s/it]E17 loss=[161.79,166.23] acc=[42.14,41.01]\n",
        " 95%|█████████▌| 19/20 [27:39<01:29, 89.87s/it]E18 loss=[153.73,157.84] acc=[46.04,44.65]\n",
        "100%|██████████| 20/20 [29:11<00:00, 87.56s/it]E19 loss=[153.49,157.60] acc=[45.99,44.44]"
      ]
    },
    {
      "cell_type": "markdown",
      "metadata": {
        "id": "YktHLi8m1_7T"
      },
      "source": [
        "### Gráficas de pérdida y accuracy"
      ]
    },
    {
      "cell_type": "code",
      "metadata": {
        "colab": {
          "base_uri": "https://localhost:8080/",
          "height": 390
        },
        "id": "uJhuCXM10IcJ",
        "outputId": "7577e828-279f-446e-e557-19e6972185b2"
      },
      "source": [
        "fig, (ax0, ax1) = plt.subplots(nrows=1, ncols=2, figsize=(20,6))\n",
        "\n",
        "trn_loss, tst_loss = zip(*loss_hist)\n",
        "ax0.plot(trn_loss, 'orange', label='Train loss')\n",
        "ax0.plot(tst_loss, 'red', label='Test loss')\n",
        "ax0.set_xlabel('Época', weight='bold')\n",
        "ax0.set_ylabel('Loss', weight='bold')\n",
        "ax0.legend()\n",
        "\n",
        "trn_acc, tst_acc = zip(*acc_hist)\n",
        "ax1.plot(trn_acc, 'green', label='Train acc')\n",
        "ax1.plot(tst_acc, 'blue', label='Test acc')\n",
        "ax1.set_xlabel('Época', weight='bold')\n",
        "ax1.set_ylabel('exactitud', weight='bold')\n",
        "ax1.legend()\n",
        "\n",
        "plt.show()"
      ],
      "execution_count": 16,
      "outputs": [
        {
          "output_type": "display_data",
          "data": {
            "image/png": "[encoded data removed]",
            "text/plain": [
              "<Figure size 1440x432 with 2 Axes>"
            ]
          },
          "metadata": {
            "tags": []
          }
        }
      ]
    },
    {
      "cell_type": "code",
      "metadata": {
        "colab": {
          "base_uri": "https://localhost:8080/"
        },
        "id": "BiwcAZfB9H5y",
        "outputId": "6c517209-de5d-4eaf-a138-9308c019e908"
      },
      "source": [
        "# Evaluamos en entrenamiento\n",
        "trn_loss, trn_acc = eval_epoch(trainloader, model)\n",
        "# Evaluamos en prueba\n",
        "tst_loss, tst_acc = eval_epoch(testloader, model)\n",
        "\n",
        "print(f'loss=[{trn_loss:6.2f},{tst_loss:6.2f}] '\n",
        "      f'acc=[{trn_acc:5.2f},{tst_acc:5.2f}]')"
      ],
      "execution_count": 17,
      "outputs": [
        {
          "output_type": "stream",
          "text": [
            "loss=[144.96,164.73] acc=[48.80,42.86]\n"
          ],
          "name": "stdout"
        }
      ]
    },
    {
      "cell_type": "markdown",
      "metadata": {
        "id": "mBDGBdiZ2JNl"
      },
      "source": [
        "### Predicciones"
      ]
    },
    {
      "cell_type": "code",
      "metadata": {
        "colab": {
          "base_uri": "https://localhost:8080/",
          "height": 305
        },
        "id": "wXCaGNuq2Kmy",
        "outputId": "72953623-5b9b-40db-c3bb-79300cbcb453"
      },
      "source": [
        "with torch.no_grad(): \n",
        "    images, true_labels = next(iter(testloader))\n",
        "    y_lgts = model(images)\n",
        "    y_prob = F.softmax(y_lgts, 1)\n",
        "    y_pred = torch.argmax(y_prob, 1)\n",
        "    pred_labels = list(y_pred.numpy())\n",
        "\n",
        "    show_images(images, true_labels, pred_labels)"
      ],
      "execution_count": 28,
      "outputs": [
        {
          "output_type": "display_data",
          "data": {
            "image/png": "[encoded data removed]",
            "text/plain": [
              "<Figure size 1440x360 with 4 Axes>"
            ]
          },
          "metadata": {
            "tags": []
          }
        }
      ]
    },
    {
      "cell_type": "code",
      "metadata": {
        "id": "7t_IEz2V8m4W"
      },
      "source": [
        ""
      ],
      "execution_count": 18,
      "outputs": []
    }
  ]
}