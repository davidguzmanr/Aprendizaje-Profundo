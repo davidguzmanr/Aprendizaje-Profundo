{
 "cells": [
  {
   "cell_type": "markdown",
   "metadata": {
    "colab_type": "text",
    "id": "view-in-github"
   },
   "source": [
    "<a href=\"https://colab.research.google.com/github/davidguzmanr/Aprendizaje-Profundo/blob/main/Tareas/Tarea-1/Tarea_1_ejercicio_4.ipynb\" target=\"_parent\"><img src=\"https://colab.research.google.com/assets/colab-badge.svg\" alt=\"Open In Colab\"/></a>"
   ]
  },
  {
   "cell_type": "markdown",
   "metadata": {
    "id": "GdNrcxTfpTyn"
   },
   "source": [
    "# Tarea 1: perceptrón y redes densas\n",
    "\n",
    "- **E. David Guzmán Ramírez**\n",
    "- **Introducción al Aprendizaje Profundo 2021-II**\n",
    "- **Licenciatura en Ciencia de Datos CU UNAM**"
   ]
  },
  {
   "cell_type": "code",
   "execution_count": 2,
   "metadata": {
    "id": "z-st3As9pchc"
   },
   "outputs": [],
   "source": [
    "import numpy as np\n",
    "import pandas as pd\n",
    "import matplotlib.pyplot as plt\n",
    "import seaborn as sns\n",
    "\n",
    "import torch\n",
    "import torch.nn as nn\n",
    "import torch.nn.functional as F\n",
    "import torch.optim as optim\n",
    "import torchvision\n",
    "import torchvision.transforms as transforms\n",
    "from torchinfo import summary\n",
    "\n",
    "from collections import Counter\n",
    "from itertools import islice as take\n",
    "from tqdm import trange, tqdm\n",
    "\n",
    "sns.set_style('darkgrid')"
   ]
  },
  {
   "cell_type": "markdown",
   "metadata": {
    "id": "C_stj03_uptE"
   },
   "source": [
    "## Ejercicio 4\n",
    "\n",
    "Entrena una red completamente conectada para clasificación multiclase en el conjunto CIFAR10 (puedes usar todas las herramientas de PyTorch). (3 puntos)"
   ]
  },
  {
   "cell_type": "markdown",
   "metadata": {
    "id": "MKaVulAG0d-I"
   },
   "source": [
    "### Carga de datos y exploración"
   ]
  },
  {
   "cell_type": "markdown",
   "metadata": {
    "id": "gE3g65KburB2"
   },
   "source": [
    "El conjunto de datos CIFAR-10 contiene 60,000 imágenes a color de 32x32 en 10 clases diferentes. Las 10 clases diferentes representan aviones, automóviles, pájaros, gatos, ciervos, perros, ranas, caballos, barcos y camiones. Hay 6.000 imágenes de cada clase (ver [CIFAR10 tutorial](https://pytorch.org/tutorials/beginner/blitz/cifar10_tutorial.html) para cargar el dataset de manera sencilla)."
   ]
  },
  {
   "cell_type": "code",
   "execution_count": 3,
   "metadata": {
    "colab": {
     "base_uri": "https://localhost:8080/"
    },
    "id": "5-o43f1WpgoM",
    "outputId": "3fac3a6b-4542-44e3-ff5f-058e5e638bd3"
   },
   "outputs": [
    {
     "name": "stdout",
     "output_type": "stream",
     "text": [
      "Files already downloaded and verified\n",
      "Files already downloaded and verified\n"
     ]
    }
   ],
   "source": [
    "# Los pasa a tensores y las normaliza con media=0.5 y desv_est=0.5 en cada canal.\n",
    "transform = transforms.Compose([transforms.ToTensor(), transforms.Normalize((0.5, 0.5, 0.5), (0.5, 0.5, 0.5))])\n",
    "\n",
    "trainset = torchvision.datasets.CIFAR10(root='./data', train=True, download=True, transform=transform)\n",
    "trainloader = torch.utils.data.DataLoader(trainset, batch_size=4, shuffle=True, num_workers=2)\n",
    "\n",
    "testset = torchvision.datasets.CIFAR10(root='./data', train=False, download=True, transform=transform)\n",
    "testloader = torch.utils.data.DataLoader(testset, batch_size=4, shuffle=True, num_workers=2)\n",
    "\n",
    "classes = ['plane', 'car', 'bird', 'cat', 'deer', 'dog', 'frog', 'horse', 'ship', 'truck']\n",
    "classes_dict = dict(zip(range(0,10), classes))"
   ]
  },
  {
   "cell_type": "markdown",
   "metadata": {
    "id": "fwPEJiynpuSJ"
   },
   "source": [
    "Vemos que hay 50,000 imágenes en el dataset de entrenamiento y 10,000 en el de prueba. Además, tanto en el dataset de entrenamiento como el de prueba las clases están completamente balanceadas."
   ]
  },
  {
   "cell_type": "code",
   "execution_count": 4,
   "metadata": {
    "colab": {
     "base_uri": "https://localhost:8080/"
    },
    "id": "Z1ecNWaEpm1C",
    "outputId": "b0468d32-1f67-49b3-ad2e-64c1d8e50a39"
   },
   "outputs": [
    {
     "data": {
      "text/plain": [
       "(50000, 10000)"
      ]
     },
     "execution_count": 4,
     "metadata": {},
     "output_type": "execute_result"
    }
   ],
   "source": [
    "len(trainset), len(testset)"
   ]
  },
  {
   "cell_type": "code",
   "execution_count": 5,
   "metadata": {
    "colab": {
     "base_uri": "https://localhost:8080/"
    },
    "id": "sOWIIqvYrQdx",
    "outputId": "7a26b3fb-ff95-4bd9-ef22-db0058fcc4c6"
   },
   "outputs": [
    {
     "data": {
      "text/plain": [
       "Counter({'frog': 5000,\n",
       "         'truck': 5000,\n",
       "         'deer': 5000,\n",
       "         'car': 5000,\n",
       "         'bird': 5000,\n",
       "         'horse': 5000,\n",
       "         'ship': 5000,\n",
       "         'cat': 5000,\n",
       "         'dog': 5000,\n",
       "         'plane': 5000})"
      ]
     },
     "execution_count": 5,
     "metadata": {},
     "output_type": "execute_result"
    }
   ],
   "source": [
    "train_class_counter = Counter([classes_dict[y] for (x, y) in trainset])\n",
    "train_class_counter"
   ]
  },
  {
   "cell_type": "code",
   "execution_count": 6,
   "metadata": {
    "colab": {
     "base_uri": "https://localhost:8080/"
    },
    "id": "Zu6Z_L8KsQq8",
    "outputId": "8defd870-68ce-4889-d55d-553c892f797d"
   },
   "outputs": [
    {
     "data": {
      "text/plain": [
       "Counter({'cat': 1000,\n",
       "         'ship': 1000,\n",
       "         'plane': 1000,\n",
       "         'frog': 1000,\n",
       "         'car': 1000,\n",
       "         'truck': 1000,\n",
       "         'dog': 1000,\n",
       "         'horse': 1000,\n",
       "         'deer': 1000,\n",
       "         'bird': 1000})"
      ]
     },
     "execution_count": 6,
     "metadata": {},
     "output_type": "execute_result"
    }
   ],
   "source": [
    "test_class_counter = Counter([classes_dict[y] for (x, y) in testset])\n",
    "test_class_counter"
   ]
  },
  {
   "cell_type": "markdown",
   "metadata": {
    "id": "vYerszfrs16u"
   },
   "source": [
    "Ahora veamos algunas imágenes en el dataset."
   ]
  },
  {
   "cell_type": "code",
   "execution_count": 7,
   "metadata": {
    "id": "0KBm0Tduu73s"
   },
   "outputs": [],
   "source": [
    "def show_images(images, true_labels, pred_labels=None):\n",
    "    \"\"\"\n",
    "    Muestra un lote de imágenes con su respectiva clase.\n",
    "    \"\"\"\n",
    "    fig, axes = plt.subplots(nrows=1, ncols=4, figsize=(20,5))\n",
    "\n",
    "    for i, _ in enumerate(axes):\n",
    "        axes[i].imshow(images[i].permute(1,2,0).numpy()/2 + 0.5) # Desnormalizamos\n",
    "        axes[i].axis('off')\n",
    "\n",
    "    if pred_labels:\n",
    "        for i, _ in enumerate(axes):\n",
    "            axes[i].set_title(f'true_label={classes_dict[true_labels[i].item()]}\\npred_label={classes_dict[pred_labels[i].item()]}')\n",
    "    else:\n",
    "        for i, _ in enumerate(axes):\n",
    "            axes[i].set_title(f'true_label={classes_dict[true_labels[i].item()]}')"
   ]
  },
  {
   "cell_type": "code",
   "execution_count": 8,
   "metadata": {
    "colab": {
     "base_uri": "https://localhost:8080/",
     "height": 290
    },
    "id": "uM_ARG7JyegM",
    "outputId": "33a9cfdb-e157-4dfa-81b6-cad065193fbf"
   },
   "outputs": [
    {
     "data": {
      "image/png": "[encoded data removed]",
      "text/plain": [
       "<Figure size 1440x360 with 4 Axes>"
      ]
     },
     "metadata": {},
     "output_type": "display_data"
    }
   ],
   "source": [
    "images, true_labels = next(iter(trainloader))\n",
    "show_images(images, true_labels)"
   ]
  },
  {
   "cell_type": "markdown",
   "metadata": {
    "id": "IT5vVl-Q0Zn0"
   },
   "source": [
    "### Definición del modelo"
   ]
  },
  {
   "cell_type": "markdown",
   "metadata": {
    "id": "aG9GwfT7ytye"
   },
   "source": [
    "Ahora definamos nuestro modelo, como estamos *aplanando* una imagen de $32 \\times 32 \\times 3$ la capa inicial es muy grande y en consecuencia tendremos muchos parámetros, por lo que es conveniente que las siguientes capas no sean muy grandes para que no haya tantos parámetros, pues de lo contrario tarda bastante en entrenar. Trataré con un modelo sencillo con sólo dos capas ocultas."
   ]
  },
  {
   "cell_type": "code",
   "execution_count": 9,
   "metadata": {
    "colab": {
     "base_uri": "https://localhost:8080/"
    },
    "id": "Ez6C4nzQrNur",
    "outputId": "54696549-25c4-4eae-9339-bc6d8b227c3d"
   },
   "outputs": [
    {
     "name": "stdout",
     "output_type": "stream",
     "text": [
      "cuda:0\n"
     ]
    }
   ],
   "source": [
    "device = torch.device('cuda:0' if torch.cuda.is_available() else 'cpu')\n",
    "# device = 'cpu'\n",
    "print(device)"
   ]
  },
  {
   "cell_type": "code",
   "execution_count": 10,
   "metadata": {
    "id": "ecZWNwDzprb3"
   },
   "outputs": [],
   "source": [
    "class FCN(nn.Module):\n",
    "    # inicializador\n",
    "    def __init__(self):        \n",
    "        # inicilización del objeto padre\n",
    "        super(FCN, self).__init__()\n",
    "        \n",
    "        # tamaño de las capas\n",
    "        self.I = 3 * 32 * 32\n",
    "        FC1, FC2 = 20, 10\n",
    "        \n",
    "        # definición de capas\n",
    "        self.cls = nn.Sequential(            \n",
    "            # fc1\n",
    "            # [M, 3x32x32] => [M, 20]\n",
    "            nn.Linear(self.I, FC1),\n",
    "            nn.ReLU(),\n",
    "            \n",
    "            # fc2\n",
    "            # [M, 20] => [M, 10]\n",
    "            nn.Linear(FC1, FC2),\n",
    "            nn.ReLU(),        \n",
    "        )\n",
    "    \n",
    "    # método para inferencia\n",
    "    def forward(self, x):        \n",
    "        # aplanamos los pixeles de la imagen\n",
    "        # [M, 3, 32, 32] => [M, 3x32x32]\n",
    "        x = x.view(-1, self.I)\n",
    "        \n",
    "        # inferencia\n",
    "        # [M, 10]\n",
    "        \n",
    "        return self.cls(x)"
   ]
  },
  {
   "cell_type": "code",
   "execution_count": 11,
   "metadata": {
    "id": "U1ee9WBVytRd"
   },
   "outputs": [],
   "source": [
    "def train_epoch(dataloader, model, opt):\n",
    "\n",
    "    # por cada lote\n",
    "    for x, y_true in dataloader:\n",
    "        # Los pasamos a la GPU, en caso de que haya\n",
    "        x, y_true = x.to(device), y_true.to(device)\n",
    "        \n",
    "        # computamos logits\n",
    "        y_lgts = model(x)\n",
    "        \n",
    "        # computamos la pérdida\n",
    "        loss = F.cross_entropy(y_lgts, y_true)\n",
    "        \n",
    "        # vaciamos los gradientes\n",
    "        opt.zero_grad()\n",
    "        \n",
    "        # retropropagamos\n",
    "        loss.backward()\n",
    "        \n",
    "        # actualizamos parámetros\n",
    "        opt.step()"
   ]
  },
  {
   "cell_type": "code",
   "execution_count": 12,
   "metadata": {
    "id": "tyHh2pc9s5qw"
   },
   "outputs": [],
   "source": [
    "def eval_epoch(dl, model, num_batches=None):\n",
    "\n",
    "    # evitamos que se registren las operaciones \n",
    "    # en la gráfica de cómputo\n",
    "    with torch.no_grad():\n",
    "\n",
    "        # historiales\n",
    "        losses, accs = [], []\n",
    "\n",
    "        # validación de la época con num_batches\n",
    "        # si num_batches==None, se usan todos los lotes\n",
    "        for x, y_true in take(dl, num_batches):\n",
    "            # Los pasamos a la GPU, en caso de que haya\n",
    "            x, y_true = x.to(device), y_true.to(device)\n",
    "\n",
    "            # computamos los logits\n",
    "            y_lgts = model(x)\n",
    "\n",
    "            # computamos los puntajes\n",
    "            y_prob = F.softmax(y_lgts, 1)\n",
    "\n",
    "            # computamos la clases\n",
    "            y_pred = torch.argmax(y_prob, 1)\n",
    "\n",
    "            # computamos la pérdida\n",
    "            loss = F.cross_entropy(y_lgts, y_true)\n",
    "\n",
    "            # computamos la exactitud\n",
    "            acc = (y_true == y_pred).type(torch.float32).mean()\n",
    "\n",
    "            # guardamos históricos\n",
    "            losses.append(loss.item())\n",
    "            accs.append(acc.item())\n",
    "\n",
    "        # promediamos\n",
    "        loss = np.mean(losses) * 100\n",
    "        acc = np.mean(accs) * 100\n",
    "\n",
    "        return loss, acc"
   ]
  },
  {
   "cell_type": "code",
   "execution_count": 13,
   "metadata": {
    "id": "6Rzu2QWVzjXm"
   },
   "outputs": [],
   "source": [
    "def train(model, trn_dl, tst_dl, lr=1e-3, epochs=20, trn_batches=None, tst_batches=None):\n",
    "\n",
    "    # historiales\n",
    "    loss_hist, acc_hist = [], []\n",
    "    \n",
    "    # optimizador\n",
    "    opt = optim.SGD(model.parameters(), lr=lr)\n",
    "\n",
    "    # ciclo de entrenamiento\n",
    "    for epoch in trange(epochs):\n",
    "\n",
    "        # entrenamos la época\n",
    "        train_epoch(trn_dl, model, opt)\n",
    "\n",
    "        # evaluamos la época en entrenamiento\n",
    "        trn_loss, trn_acc = eval_epoch(trn_dl, model, trn_batches)\n",
    "        # evaluamos la época en prueba\n",
    "        tst_loss, tst_acc = eval_epoch(tst_dl, model, tst_batches)\n",
    "\n",
    "        # guardamos historial\n",
    "        loss_hist.append([trn_loss, tst_loss])\n",
    "        acc_hist.append([trn_acc, tst_acc])\n",
    "\n",
    "        # imprimimos progreso\n",
    "        print(f'E{epoch:02} '\n",
    "              f'loss=[{trn_loss:6.2f},{tst_loss:6.2f}] '\n",
    "              f'acc=[{trn_acc:5.2f},{tst_acc:5.2f}]')\n",
    "\n",
    "    return loss_hist, acc_hist"
   ]
  },
  {
   "cell_type": "markdown",
   "metadata": {
    "id": "YpOSOhDdzplb"
   },
   "source": [
    "Instanciamos nuestro modelo y vemos cuántos parámetros tiene."
   ]
  },
  {
   "cell_type": "code",
   "execution_count": 14,
   "metadata": {
    "colab": {
     "base_uri": "https://localhost:8080/"
    },
    "id": "CFe9LHfjzy2P",
    "outputId": "505b8f07-b681-486a-a653-30753e3d2f06"
   },
   "outputs": [
    {
     "data": {
      "text/plain": [
       "tensor([[0.0000, 0.0000, 0.0000, 0.0394, 0.0000, 0.1156, 0.0000, 0.0000, 0.1077,\n",
       "         0.0775]], grad_fn=<ReluBackward0>)"
      ]
     },
     "execution_count": 14,
     "metadata": {},
     "output_type": "execute_result"
    }
   ],
   "source": [
    "torch.manual_seed(42)\n",
    "\n",
    "# Definimos nuestro modelo y probamos con unos datos sintéticos\n",
    "model = FCN()\n",
    "x = torch.zeros(3,32,32)\n",
    "model(x)"
   ]
  },
  {
   "cell_type": "code",
   "execution_count": 15,
   "metadata": {
    "colab": {
     "base_uri": "https://localhost:8080/"
    },
    "id": "Dv6M--8PrvRi",
    "outputId": "d948af03-35d3-4df5-db46-07ddeabe115f"
   },
   "outputs": [
    {
     "data": {
      "text/plain": [
       "FCN(\n",
       "  (cls): Sequential(\n",
       "    (0): Linear(in_features=3072, out_features=20, bias=True)\n",
       "    (1): ReLU()\n",
       "    (2): Linear(in_features=20, out_features=10, bias=True)\n",
       "    (3): ReLU()\n",
       "  )\n",
       ")"
      ]
     },
     "execution_count": 15,
     "metadata": {},
     "output_type": "execute_result"
    }
   ],
   "source": [
    "# Lo movemos a la GPU, en caso de que haya\n",
    "model.to(device)"
   ]
  },
  {
   "cell_type": "code",
   "execution_count": 16,
   "metadata": {},
   "outputs": [],
   "source": [
    "model = FCN()\n",
    "model = model.to(device)"
   ]
  },
  {
   "cell_type": "code",
   "execution_count": 17,
   "metadata": {},
   "outputs": [
    {
     "data": {
      "text/plain": [
       "tensor([[0.0753, 0.0000, 0.1828, 0.1298, 0.0903, 0.0000, 0.0000, 0.0824, 0.0000,\n",
       "         0.0000]], device='cuda:0', grad_fn=<ReluBackward0>)"
      ]
     },
     "execution_count": 17,
     "metadata": {},
     "output_type": "execute_result"
    }
   ],
   "source": [
    "model(x.to(device))"
   ]
  },
  {
   "cell_type": "code",
   "execution_count": 18,
   "metadata": {
    "colab": {
     "base_uri": "https://localhost:8080/"
    },
    "id": "jN88fEHhzoQs",
    "outputId": "77a6bbaf-6756-4ae2-f73e-07618af58208"
   },
   "outputs": [
    {
     "data": {
      "text/plain": [
       "=================================================================\n",
       "Layer (type:depth-idx)                   Param #\n",
       "=================================================================\n",
       "├─Sequential: 1-1                        --\n",
       "|    └─Linear: 2-1                       61,460\n",
       "|    └─ReLU: 2-2                         --\n",
       "|    └─Linear: 2-3                       210\n",
       "|    └─ReLU: 2-4                         --\n",
       "=================================================================\n",
       "Total params: 61,670\n",
       "Trainable params: 61,670\n",
       "Non-trainable params: 0\n",
       "================================================================="
      ]
     },
     "execution_count": 18,
     "metadata": {},
     "output_type": "execute_result"
    }
   ],
   "source": [
    "summary(model)"
   ]
  },
  {
   "cell_type": "markdown",
   "metadata": {
    "id": "abS6Cs-I0o3O"
   },
   "source": [
    "### Entrenamiento"
   ]
  },
  {
   "cell_type": "code",
   "execution_count": 19,
   "metadata": {
    "colab": {
     "base_uri": "https://localhost:8080/"
    },
    "id": "D-FAFlQ1zki8",
    "outputId": "a87879dd-07bb-417d-ab75-564d89a96735"
   },
   "outputs": [
    {
     "name": "stderr",
     "output_type": "stream",
     "text": [
      "  5%|▌         | 1/20 [00:29<09:26, 29.82s/it]"
     ]
    },
    {
     "name": "stdout",
     "output_type": "stream",
     "text": [
      "E00 loss=[177.01,177.35] acc=[38.29,38.69]\n"
     ]
    },
    {
     "name": "stderr",
     "output_type": "stream",
     "text": [
      " 10%|█         | 2/20 [00:59<08:59, 29.98s/it]"
     ]
    },
    {
     "name": "stdout",
     "output_type": "stream",
     "text": [
      "E01 loss=[166.66,167.87] acc=[42.45,41.79]\n"
     ]
    },
    {
     "name": "stderr",
     "output_type": "stream",
     "text": [
      " 15%|█▌        | 3/20 [01:28<08:18, 29.34s/it]"
     ]
    },
    {
     "name": "stdout",
     "output_type": "stream",
     "text": [
      "E02 loss=[161.08,163.25] acc=[44.04,43.07]\n"
     ]
    },
    {
     "name": "stderr",
     "output_type": "stream",
     "text": [
      " 20%|██        | 4/20 [01:57<07:46, 29.14s/it]"
     ]
    },
    {
     "name": "stdout",
     "output_type": "stream",
     "text": [
      "E03 loss=[157.07,160.05] acc=[45.51,44.42]\n"
     ]
    },
    {
     "name": "stderr",
     "output_type": "stream",
     "text": [
      " 25%|██▌       | 5/20 [02:26<07:15, 29.04s/it]"
     ]
    },
    {
     "name": "stdout",
     "output_type": "stream",
     "text": [
      "E04 loss=[153.85,157.80] acc=[46.90,45.12]\n"
     ]
    },
    {
     "name": "stderr",
     "output_type": "stream",
     "text": [
      " 30%|███       | 6/20 [02:55<06:49, 29.22s/it]"
     ]
    },
    {
     "name": "stdout",
     "output_type": "stream",
     "text": [
      "E05 loss=[152.10,156.94] acc=[47.53,45.48]\n"
     ]
    },
    {
     "name": "stderr",
     "output_type": "stream",
     "text": [
      " 35%|███▌      | 7/20 [03:25<06:21, 29.33s/it]"
     ]
    },
    {
     "name": "stdout",
     "output_type": "stream",
     "text": [
      "E06 loss=[149.99,155.49] acc=[48.40,45.53]\n"
     ]
    },
    {
     "name": "stderr",
     "output_type": "stream",
     "text": [
      " 40%|████      | 8/20 [03:55<05:54, 29.51s/it]"
     ]
    },
    {
     "name": "stdout",
     "output_type": "stream",
     "text": [
      "E07 loss=[149.04,155.48] acc=[48.24,45.29]\n"
     ]
    },
    {
     "name": "stderr",
     "output_type": "stream",
     "text": [
      " 45%|████▌     | 9/20 [04:24<05:25, 29.58s/it]"
     ]
    },
    {
     "name": "stdout",
     "output_type": "stream",
     "text": [
      "E08 loss=[147.19,154.02] acc=[48.71,46.04]\n"
     ]
    },
    {
     "name": "stderr",
     "output_type": "stream",
     "text": [
      " 50%|█████     | 10/20 [04:54<04:54, 29.42s/it]"
     ]
    },
    {
     "name": "stdout",
     "output_type": "stream",
     "text": [
      "E09 loss=[145.95,153.64] acc=[49.24,46.01]\n"
     ]
    },
    {
     "name": "stderr",
     "output_type": "stream",
     "text": [
      " 55%|█████▌    | 11/20 [05:23<04:25, 29.50s/it]"
     ]
    },
    {
     "name": "stdout",
     "output_type": "stream",
     "text": [
      "E10 loss=[145.73,154.26] acc=[49.64,45.98]\n"
     ]
    },
    {
     "name": "stderr",
     "output_type": "stream",
     "text": [
      " 60%|██████    | 12/20 [05:52<03:55, 29.38s/it]"
     ]
    },
    {
     "name": "stdout",
     "output_type": "stream",
     "text": [
      "E11 loss=[144.47,153.39] acc=[50.06,45.91]\n"
     ]
    },
    {
     "name": "stderr",
     "output_type": "stream",
     "text": [
      " 65%|██████▌   | 13/20 [06:21<03:25, 29.32s/it]"
     ]
    },
    {
     "name": "stdout",
     "output_type": "stream",
     "text": [
      "E12 loss=[143.60,153.21] acc=[50.29,46.26]\n"
     ]
    },
    {
     "name": "stderr",
     "output_type": "stream",
     "text": [
      " 70%|███████   | 14/20 [06:50<02:54, 29.12s/it]"
     ]
    },
    {
     "name": "stdout",
     "output_type": "stream",
     "text": [
      "E13 loss=[142.33,152.69] acc=[50.55,46.61]\n"
     ]
    },
    {
     "name": "stderr",
     "output_type": "stream",
     "text": [
      " 75%|███████▌  | 15/20 [07:20<02:26, 29.40s/it]"
     ]
    },
    {
     "name": "stdout",
     "output_type": "stream",
     "text": [
      "E14 loss=[141.20,152.06] acc=[50.95,46.46]\n"
     ]
    },
    {
     "name": "stderr",
     "output_type": "stream",
     "text": [
      " 80%|████████  | 16/20 [07:50<01:58, 29.67s/it]"
     ]
    },
    {
     "name": "stdout",
     "output_type": "stream",
     "text": [
      "E15 loss=[141.44,153.39] acc=[50.79,46.10]\n"
     ]
    },
    {
     "name": "stderr",
     "output_type": "stream",
     "text": [
      " 85%|████████▌ | 17/20 [08:21<01:29, 29.81s/it]"
     ]
    },
    {
     "name": "stdout",
     "output_type": "stream",
     "text": [
      "E16 loss=[139.71,152.41] acc=[51.33,46.29]\n"
     ]
    },
    {
     "name": "stderr",
     "output_type": "stream",
     "text": [
      " 90%|█████████ | 18/20 [08:50<00:59, 29.73s/it]"
     ]
    },
    {
     "name": "stdout",
     "output_type": "stream",
     "text": [
      "E17 loss=[138.86,151.92] acc=[51.71,46.91]\n"
     ]
    },
    {
     "name": "stderr",
     "output_type": "stream",
     "text": [
      " 95%|█████████▌| 19/20 [09:19<00:29, 29.53s/it]"
     ]
    },
    {
     "name": "stdout",
     "output_type": "stream",
     "text": [
      "E18 loss=[138.75,152.31] acc=[51.74,46.82]\n"
     ]
    },
    {
     "name": "stderr",
     "output_type": "stream",
     "text": [
      "100%|██████████| 20/20 [09:49<00:00, 29.46s/it]"
     ]
    },
    {
     "name": "stdout",
     "output_type": "stream",
     "text": [
      "E19 loss=[139.46,154.37] acc=[51.33,46.14]\n"
     ]
    },
    {
     "name": "stderr",
     "output_type": "stream",
     "text": [
      "\n"
     ]
    }
   ],
   "source": [
    "# Entrenamos, moverlo a la GPU ahorra como 10 minutos, no es mucho\n",
    "# pero en parte es porque el modelo es pequeño\n",
    "loss_hist, acc_hist = train(model, trainloader, testloader, lr=0.001)"
   ]
  },
  {
   "cell_type": "markdown",
   "metadata": {
    "id": "YktHLi8m1_7T"
   },
   "source": [
    "### Gráficas de pérdida y accuracy"
   ]
  },
  {
   "cell_type": "code",
   "execution_count": 23,
   "metadata": {
    "colab": {
     "base_uri": "https://localhost:8080/",
     "height": 390
    },
    "id": "uJhuCXM10IcJ",
    "outputId": "e7aa5628-2cad-4bd7-8be9-d0c1ff9453db"
   },
   "outputs": [
    {
     "data": {
      "image/png": "[encoded data removed]",
      "text/plain": [
       "<Figure size 1440x432 with 2 Axes>"
      ]
     },
     "metadata": {},
     "output_type": "display_data"
    }
   ],
   "source": [
    "fig, (ax0, ax1) = plt.subplots(nrows=1, ncols=2, figsize=(20,6))\n",
    "\n",
    "trn_loss, tst_loss = zip(*loss_hist)\n",
    "ax0.plot(trn_loss, 'orange', label='Train loss')\n",
    "ax0.plot(tst_loss, 'red', label='Test loss')\n",
    "ax0.set_xlabel('Época', weight='bold')\n",
    "ax0.set_ylabel('Loss', weight='bold')\n",
    "ax0.legend()\n",
    "\n",
    "trn_acc, tst_acc = zip(*acc_hist)\n",
    "ax1.plot(trn_acc, 'green', label='Train acc')\n",
    "ax1.plot(tst_acc, 'blue', label='Test acc')\n",
    "ax1.set_xlabel('Época', weight='bold')\n",
    "ax1.set_ylabel('exactitud', weight='bold')\n",
    "ax1.legend()\n",
    "\n",
    "plt.show()"
   ]
  },
  {
   "cell_type": "markdown",
   "metadata": {
    "id": "gzZRBEvwNyfP"
   },
   "source": [
    "### Evaluación final"
   ]
  },
  {
   "cell_type": "code",
   "execution_count": 24,
   "metadata": {
    "colab": {
     "base_uri": "https://localhost:8080/"
    },
    "id": "BiwcAZfB9H5y",
    "outputId": "33927b92-d01e-45c9-e0bf-df4dafc8be13"
   },
   "outputs": [
    {
     "name": "stdout",
     "output_type": "stream",
     "text": [
      "loss=[139.46,154.37] acc=[51.33,46.14]\n"
     ]
    }
   ],
   "source": [
    "# Evaluamos en entrenamiento\n",
    "trn_loss, trn_acc = eval_epoch(trainloader, model)\n",
    "# Evaluamos en prueba\n",
    "tst_loss, tst_acc = eval_epoch(testloader, model)\n",
    "\n",
    "print(f'loss=[{trn_loss:6.2f},{tst_loss:6.2f}] '\n",
    "      f'acc=[{trn_acc:5.2f},{tst_acc:5.2f}]')"
   ]
  },
  {
   "cell_type": "markdown",
   "metadata": {
    "id": "mBDGBdiZ2JNl"
   },
   "source": [
    "### Predicciones"
   ]
  },
  {
   "cell_type": "code",
   "execution_count": 25,
   "metadata": {
    "colab": {
     "base_uri": "https://localhost:8080/",
     "height": 305
    },
    "id": "wXCaGNuq2Kmy",
    "outputId": "9cf30ff5-0c77-4c69-9497-abb7bf497284"
   },
   "outputs": [
    {
     "data": {
      "image/png": "[encoded data removed]",
      "text/plain": [
       "<Figure size 1440x360 with 4 Axes>"
      ]
     },
     "metadata": {},
     "output_type": "display_data"
    }
   ],
   "source": [
    "with torch.no_grad(): \n",
    "    images, true_labels = next(iter(testloader))\n",
    "    images = images.to(device)\n",
    "    y_lgts = model(images.to(device))\n",
    "    y_prob = F.softmax(y_lgts, 1)\n",
    "    y_pred = torch.argmax(y_prob, 1)\n",
    "    pred_labels = list(y_pred.cpu().numpy())\n",
    "\n",
    "    show_images(images.cpu(), true_labels, pred_labels)"
   ]
  },
  {
   "cell_type": "markdown",
   "metadata": {
    "id": "j7GKWHjooiC-"
   },
   "source": [
    "A pesar de ser una red sumamente sencilla tarda algo en entrenarse. La razón es que al *aplanar* la imagen de entrada el número de parámetros aumenta significativamente, lo que no es conveniente. Además, en las gráficas del conjunto de prueba parece que se empieza a estancar, por lo que agregar más épocas probablemente sólo haga que el modelo se sobreajuste. Por otra parte, el rendimiento que se alcanza no es tan bueno.\n",
    "\n",
    "Por todos estos inconvenientes, una CNN es una mejor alternativa para tratar con imágenes."
   ]
  },
  {
   "cell_type": "code",
   "execution_count": null,
   "metadata": {},
   "outputs": [],
   "source": []
  }
 ],
 "metadata": {
  "accelerator": "GPU",
  "colab": {
   "authorship_tag": "ABX9TyNEuM+RmOSlql1kTUJpiUr8",
   "collapsed_sections": [],
   "include_colab_link": true,
   "name": "Tarea_1_ejercicio_4.ipynb",
   "provenance": []
  },
  "kernelspec": {
   "display_name": "Python 3",
   "language": "python",
   "name": "python3"
  },
  "language_info": {
   "codemirror_mode": {
    "name": "ipython",
    "version": 3
   },
   "file_extension": ".py",
   "mimetype": "text/x-python",
   "name": "python",
   "nbconvert_exporter": "python",
   "pygments_lexer": "ipython3",
   "version": "3.7.3"
  }
 },
 "nbformat": 4,
 "nbformat_minor": 4
}
