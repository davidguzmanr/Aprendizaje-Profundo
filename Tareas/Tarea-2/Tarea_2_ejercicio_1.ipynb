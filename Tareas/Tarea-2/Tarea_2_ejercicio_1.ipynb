{
 "cells": [
  {
   "cell_type": "markdown",
   "metadata": {
    "colab_type": "text",
    "id": "view-in-github"
   },
   "source": [
    "<a href=\"https://colab.research.google.com/github/davidguzmanr/Aprendizaje-Profundo/blob/main/Tareas/Tarea-2/Tarea_2_ejercicio_1.ipynb\" target=\"_parent\"><img src=\"https://colab.research.google.com/assets/colab-badge.svg\" alt=\"Open In Colab\"/></a>"
   ]
  },
  {
   "cell_type": "markdown",
   "metadata": {
    "id": "R3O0S4CbHr1b"
   },
   "source": [
    "# Tarea 2: redes convolucionales\n",
    "\n",
    "- **E. David Guzmán Ramírez**\n",
    "- **Introducción al Aprendizaje Profundo 2021-II**\n",
    "- **Licenciatura en Ciencia de Datos CU UNAM**"
   ]
  },
  {
   "cell_type": "code",
   "execution_count": null,
   "metadata": {
    "colab": {
     "base_uri": "https://localhost:8080/"
    },
    "id": "8Pa_S9jlKk2K",
    "outputId": "90ffab61-dda4-40d6-d889-abf5111e78e2"
   },
   "outputs": [
    {
     "name": "stdout",
     "output_type": "stream",
     "text": [
      "Requirement already satisfied: torchinfo in /home/david/Documentos/PyTorch-1.x/lib/python3.7/site-packages (0.0.8)\n"
     ]
    }
   ],
   "source": [
    "! pip install torchinfo"
   ]
  },
  {
   "cell_type": "code",
   "execution_count": 1,
   "metadata": {
    "id": "7afuFoYHKgmT"
   },
   "outputs": [],
   "source": [
    "import numpy as np\n",
    "import pandas as pd\n",
    "import matplotlib.pyplot as plt\n",
    "import seaborn as sns\n",
    "\n",
    "import torch\n",
    "import torch.nn as nn\n",
    "import torch.nn.functional as F\n",
    "import torch.optim as optim\n",
    "import torchvision\n",
    "import torchvision.transforms as transforms\n",
    "from torchinfo import summary\n",
    "\n",
    "import random\n",
    "from collections import Counter\n",
    "from itertools import islice as take\n",
    "from tqdm import trange, tqdm\n",
    "\n",
    "sns.set_style('darkgrid')"
   ]
  },
  {
   "cell_type": "code",
   "execution_count": 2,
   "metadata": {
    "id": "Y3xWrha3jGkh"
   },
   "outputs": [],
   "source": [
    "def set_seed(seed=42):\n",
    "    \"\"\"Initializes pseudo-random number generators.\"\"\"\n",
    "    random.seed(seed)\n",
    "    np.random.seed(seed)\n",
    "    torch.manual_seed(seed)\n",
    "    \n",
    "# reproducibilidad\n",
    "set_seed()"
   ]
  },
  {
   "cell_type": "markdown",
   "metadata": {
    "id": "pAU-xH-7KNWM"
   },
   "source": [
    "## Ejercicio 1\n",
    "\n",
    "Diseña y entrena una red convolucional para el conjunto de datos CIFAR10. Explora diferentes diseños buscando mejorar tus resultados en el ejercicio 4 de la tarea 1. Discute tus resultados."
   ]
  },
  {
   "cell_type": "markdown",
   "metadata": {
    "id": "kZl79COhKa4S"
   },
   "source": [
    "### Carga de datos y exploración\n",
    "\n",
    "El conjunto de datos CIFAR-10 contiene 60,000 imágenes a color de 32x32 en 10 clases diferentes. Las 10 clases diferentes representan aviones, automóviles, pájaros, gatos, ciervos, perros, ranas, caballos, barcos y camiones. Hay 6.000 imágenes de cada clase (ver [CIFAR10 tutorial](https://pytorch.org/tutorials/beginner/blitz/cifar10_tutorial.html) para cargar el dataset de manera sencilla)."
   ]
  },
  {
   "cell_type": "code",
   "execution_count": 3,
   "metadata": {
    "colab": {
     "base_uri": "https://localhost:8080/",
     "height": 121,
     "referenced_widgets": [
      "d497460d1474462e8e2b48b62d7104be",
      "ed5c7230c65c4f9e9a4d94e5c0e0769c",
      "769b609ddd204c8baa9bb0c9269e1aab",
      "465d5d5ed617453980b321edb021c891",
      "0743395b0a6049f6a09ae4f7332a3eae",
      "649c42c47e7449f2ae36d608c6104025",
      "be9adb59cf8d4ae5a336a046c1defe08",
      "eac7d81bac1a45509bec373bf5644849"
     ]
    },
    "id": "PTH0TdWDKwcD",
    "outputId": "231839d3-cb9a-4b5e-cb7a-c43bcf0826ce"
   },
   "outputs": [
    {
     "name": "stdout",
     "output_type": "stream",
     "text": [
      "Downloading https://www.cs.toronto.edu/~kriz/cifar-10-python.tar.gz to ./data/cifar-10-python.tar.gz\n"
     ]
    },
    {
     "data": {
      "application/vnd.jupyter.widget-view+json": {
       "model_id": "ef62401727e6463d9a40e88356de39fe",
       "version_major": 2,
       "version_minor": 0
      },
      "text/plain": [
       "0it [00:00, ?it/s]"
      ]
     },
     "metadata": {},
     "output_type": "display_data"
    },
    {
     "name": "stdout",
     "output_type": "stream",
     "text": [
      "Extracting ./data/cifar-10-python.tar.gz to ./data\n",
      "Files already downloaded and verified\n"
     ]
    }
   ],
   "source": [
    "# Los pasa a tensores y las normaliza con media=0.5 y desv_est=0.5 en cada canal.\n",
    "transform = transforms.Compose([transforms.ToTensor(), transforms.Normalize((0.5, 0.5, 0.5), (0.5, 0.5, 0.5))])\n",
    "\n",
    "trainset = torchvision.datasets.CIFAR10(root='./data', train=True, download=True, transform=transform)\n",
    "trainloader = torch.utils.data.DataLoader(trainset, batch_size=4, shuffle=True, num_workers=2)\n",
    "\n",
    "testset = torchvision.datasets.CIFAR10(root='./data', train=False, download=True, transform=transform)\n",
    "testloader = torch.utils.data.DataLoader(testset, batch_size=4, shuffle=True, num_workers=2)\n",
    "\n",
    "classes = ['plane', 'car', 'bird', 'cat', 'deer', 'dog', 'frog', 'horse', 'ship', 'truck']\n",
    "classes_dict = dict(zip(range(0,10), classes))"
   ]
  },
  {
   "cell_type": "code",
   "execution_count": 16,
   "metadata": {},
   "outputs": [
    {
     "data": {
      "text/plain": [
       "['__add__',\n",
       " '__class__',\n",
       " '__class_getitem__',\n",
       " '__delattr__',\n",
       " '__dict__',\n",
       " '__dir__',\n",
       " '__doc__',\n",
       " '__eq__',\n",
       " '__format__',\n",
       " '__ge__',\n",
       " '__getattribute__',\n",
       " '__getitem__',\n",
       " '__gt__',\n",
       " '__hash__',\n",
       " '__init__',\n",
       " '__init_subclass__',\n",
       " '__le__',\n",
       " '__len__',\n",
       " '__lt__',\n",
       " '__module__',\n",
       " '__ne__',\n",
       " '__new__',\n",
       " '__orig_bases__',\n",
       " '__parameters__',\n",
       " '__reduce__',\n",
       " '__reduce_ex__',\n",
       " '__repr__',\n",
       " '__setattr__',\n",
       " '__sizeof__',\n",
       " '__slots__',\n",
       " '__str__',\n",
       " '__subclasshook__',\n",
       " '__weakref__',\n",
       " '_check_integrity',\n",
       " '_format_transform_repr',\n",
       " '_load_meta',\n",
       " '_repr_indent',\n",
       " 'base_folder',\n",
       " 'class_to_idx',\n",
       " 'classes',\n",
       " 'data',\n",
       " 'download',\n",
       " 'extra_repr',\n",
       " 'filename',\n",
       " 'meta',\n",
       " 'root',\n",
       " 'target_transform',\n",
       " 'targets',\n",
       " 'test_list',\n",
       " 'tgz_md5',\n",
       " 'train',\n",
       " 'train_list',\n",
       " 'transform',\n",
       " 'transforms',\n",
       " 'url']"
      ]
     },
     "execution_count": 16,
     "metadata": {},
     "output_type": "execute_result"
    }
   ],
   "source": [
    "dir(trainset)"
   ]
  },
  {
   "cell_type": "code",
   "execution_count": 14,
   "metadata": {},
   "outputs": [
    {
     "data": {
      "text/plain": [
       "{'airplane': 0,\n",
       " 'automobile': 1,\n",
       " 'bird': 2,\n",
       " 'cat': 3,\n",
       " 'deer': 4,\n",
       " 'dog': 5,\n",
       " 'frog': 6,\n",
       " 'horse': 7,\n",
       " 'ship': 8,\n",
       " 'truck': 9}"
      ]
     },
     "execution_count": 14,
     "metadata": {},
     "output_type": "execute_result"
    }
   ],
   "source": [
    "trainset.class_to_idx"
   ]
  },
  {
   "cell_type": "code",
   "execution_count": 5,
   "metadata": {},
   "outputs": [
    {
     "data": {
      "text/plain": [
       "['__add__',\n",
       " '__class__',\n",
       " '__class_getitem__',\n",
       " '__delattr__',\n",
       " '__dict__',\n",
       " '__dir__',\n",
       " '__doc__',\n",
       " '__eq__',\n",
       " '__format__',\n",
       " '__ge__',\n",
       " '__getattribute__',\n",
       " '__getitem__',\n",
       " '__gt__',\n",
       " '__hash__',\n",
       " '__init__',\n",
       " '__init_subclass__',\n",
       " '__le__',\n",
       " '__len__',\n",
       " '__lt__',\n",
       " '__module__',\n",
       " '__ne__',\n",
       " '__new__',\n",
       " '__orig_bases__',\n",
       " '__parameters__',\n",
       " '__reduce__',\n",
       " '__reduce_ex__',\n",
       " '__repr__',\n",
       " '__setattr__',\n",
       " '__sizeof__',\n",
       " '__slots__',\n",
       " '__str__',\n",
       " '__subclasshook__',\n",
       " '__weakref__',\n",
       " '_check_integrity',\n",
       " '_format_transform_repr',\n",
       " '_load_meta',\n",
       " '_repr_indent',\n",
       " 'base_folder',\n",
       " 'class_to_idx',\n",
       " 'classes',\n",
       " 'data',\n",
       " 'download',\n",
       " 'extra_repr',\n",
       " 'filename',\n",
       " 'meta',\n",
       " 'root',\n",
       " 'target_transform',\n",
       " 'targets',\n",
       " 'test_list',\n",
       " 'tgz_md5',\n",
       " 'train',\n",
       " 'train_list',\n",
       " 'transform',\n",
       " 'transforms',\n",
       " 'url']"
      ]
     },
     "execution_count": 5,
     "metadata": {},
     "output_type": "execute_result"
    }
   ],
   "source": [
    "dir(trainset)"
   ]
  },
  {
   "cell_type": "code",
   "execution_count": 8,
   "metadata": {},
   "outputs": [
    {
     "data": {
      "text/plain": [
       "{'airplane': 0,\n",
       " 'automobile': 1,\n",
       " 'bird': 2,\n",
       " 'cat': 3,\n",
       " 'deer': 4,\n",
       " 'dog': 5,\n",
       " 'frog': 6,\n",
       " 'horse': 7,\n",
       " 'ship': 8,\n",
       " 'truck': 9}"
      ]
     },
     "execution_count": 8,
     "metadata": {},
     "output_type": "execute_result"
    }
   ],
   "source": [
    "trainset.class_to_idx"
   ]
  },
  {
   "cell_type": "code",
   "execution_count": 13,
   "metadata": {},
   "outputs": [
    {
     "data": {
      "text/plain": [
       "torch.Size([3, 32, 32])"
      ]
     },
     "execution_count": 13,
     "metadata": {},
     "output_type": "execute_result"
    }
   ],
   "source": [
    "trainset.__getitem__(1)[0].shape"
   ]
  },
  {
   "cell_type": "markdown",
   "metadata": {
    "id": "bc-dCTGJK-CF"
   },
   "source": [
    "Vemos que hay 50,000 imágenes en el dataset de entrenamiento y 10,000 en el de prueba. Además, tanto en el dataset de entrenamiento como el de prueba las clases están completamente balanceadas."
   ]
  },
  {
   "cell_type": "code",
   "execution_count": null,
   "metadata": {
    "colab": {
     "base_uri": "https://localhost:8080/"
    },
    "id": "Frj7wd6oK9Pi",
    "outputId": "0412f232-9f57-472d-e0ae-82ed47571186"
   },
   "outputs": [
    {
     "data": {
      "text/plain": [
       "(50000, 10000)"
      ]
     },
     "execution_count": 5,
     "metadata": {
      "tags": []
     },
     "output_type": "execute_result"
    }
   ],
   "source": [
    "len(trainset), len(testset)"
   ]
  },
  {
   "cell_type": "code",
   "execution_count": null,
   "metadata": {
    "colab": {
     "base_uri": "https://localhost:8080/"
    },
    "id": "nkQeFyVWKyyP",
    "outputId": "592e91dc-dfe6-4e64-89e8-371390a86eff"
   },
   "outputs": [
    {
     "data": {
      "text/plain": [
       "Counter({'frog': 5000,\n",
       "         'truck': 5000,\n",
       "         'deer': 5000,\n",
       "         'car': 5000,\n",
       "         'bird': 5000,\n",
       "         'horse': 5000,\n",
       "         'ship': 5000,\n",
       "         'cat': 5000,\n",
       "         'dog': 5000,\n",
       "         'plane': 5000})"
      ]
     },
     "execution_count": 6,
     "metadata": {
      "tags": []
     },
     "output_type": "execute_result"
    }
   ],
   "source": [
    "train_class_counter = Counter([classes_dict[y] for (x, y) in trainset])\n",
    "train_class_counter"
   ]
  },
  {
   "cell_type": "code",
   "execution_count": null,
   "metadata": {
    "colab": {
     "base_uri": "https://localhost:8080/"
    },
    "id": "87keNEauLA7w",
    "outputId": "e5f99a6e-6fa7-4d44-d4d0-c642e74a5300"
   },
   "outputs": [
    {
     "data": {
      "text/plain": [
       "Counter({'cat': 1000,\n",
       "         'ship': 1000,\n",
       "         'plane': 1000,\n",
       "         'frog': 1000,\n",
       "         'car': 1000,\n",
       "         'truck': 1000,\n",
       "         'dog': 1000,\n",
       "         'horse': 1000,\n",
       "         'deer': 1000,\n",
       "         'bird': 1000})"
      ]
     },
     "execution_count": 7,
     "metadata": {
      "tags": []
     },
     "output_type": "execute_result"
    }
   ],
   "source": [
    "test_class_counter = Counter([classes_dict[y] for (x, y) in testset])\n",
    "test_class_counter"
   ]
  },
  {
   "cell_type": "markdown",
   "metadata": {
    "id": "I4euJBY9LG3e"
   },
   "source": [
    "Ahora veamos algunas imágenes en el dataset."
   ]
  },
  {
   "cell_type": "code",
   "execution_count": null,
   "metadata": {
    "id": "i_WACGEhLFFE"
   },
   "outputs": [],
   "source": [
    "def show_images(images, true_labels, pred_labels=None):\n",
    "    \"\"\"\n",
    "    Muestra un lote de imágenes con su respectiva clase.\n",
    "    \"\"\"\n",
    "    fig, axes = plt.subplots(nrows=1, ncols=4, figsize=(20,5))\n",
    "\n",
    "    for i, _ in enumerate(axes):\n",
    "        axes[i].imshow(images[i].permute(1,2,0).numpy()/2 + 0.5) # Desnormalizamos\n",
    "        axes[i].axis('off')\n",
    "\n",
    "    if pred_labels:\n",
    "        for i, _ in enumerate(axes):\n",
    "            axes[i].set_title(f'true_label={classes_dict[true_labels[i].item()]}\\npred_label={classes_dict[pred_labels[i].item()]}')\n",
    "    else:\n",
    "        for i, _ in enumerate(axes):\n",
    "            axes[i].set_title(f'true_label={classes_dict[true_labels[i].item()]}')"
   ]
  },
  {
   "cell_type": "code",
   "execution_count": null,
   "metadata": {
    "colab": {
     "base_uri": "https://localhost:8080/",
     "height": 290
    },
    "id": "umN4kw68LICu",
    "outputId": "d41ad418-e745-41fe-b9c4-87a1db9d6342"
   },
   "outputs": [
    {
     "data": {
      "image/png": "[encoded data removed]",
      "text/plain": [
       "<Figure size 1440x360 with 4 Axes>"
      ]
     },
     "metadata": {
      "tags": []
     },
     "output_type": "display_data"
    }
   ],
   "source": [
    "images, true_labels = next(iter(trainloader))\n",
    "show_images(images, true_labels)"
   ]
  },
  {
   "cell_type": "markdown",
   "metadata": {
    "id": "B3m28lHOLPHw"
   },
   "source": [
    "### Definición del modelo\n",
    "\n",
    "Ahora definamos nuestro modelo, usaré un bloque sencillo formado por:\n",
    "\n",
    "- `nn.Conv2d(in_channels=3, out_channels=3, kernel_size=3, stride=1, padding=0)`\n",
    "- `nn.BatchNorm2d(num_features=3)`\n",
    "- `nn.ReLU()`\n",
    "\n",
    "Este bloque lo iré apilando y combinando con `MaxPool2d(kernel_size=2)`. Para la parte del clasificador usaré una `fully connected` sencilla dada por:\n",
    "\n",
    "- `nn.Linear(in_features, 50)` (`in_features` cambia dependiendo de cuántos bloques use)\n",
    "- `nn.ReLU()`\n",
    "- `nn.Linear(50, 30)`\n",
    "- `nn.ReLU()`\n",
    "- `nn.Linear(30, 10)`\n",
    "\n",
    "Además, para aprovechar el ejercicio 2 de esta tarea también usaré el bloque de ResNet para experimentar."
   ]
  },
  {
   "cell_type": "code",
   "execution_count": null,
   "metadata": {
    "colab": {
     "base_uri": "https://localhost:8080/"
    },
    "id": "gnb1lG1zLJq8",
    "outputId": "1aa74915-887e-4237-c934-901b91f22b13"
   },
   "outputs": [
    {
     "name": "stdout",
     "output_type": "stream",
     "text": [
      "cuda:0\n"
     ]
    }
   ],
   "source": [
    "device = torch.device('cuda:0' if torch.cuda.is_available() else 'cpu')\n",
    "# device = 'cpu'\n",
    "print(device)"
   ]
  },
  {
   "cell_type": "code",
   "execution_count": null,
   "metadata": {
    "id": "jWMC7YZjjGkk"
   },
   "outputs": [],
   "source": [
    "class MyBlock(nn.Module):\n",
    "\n",
    "    def __init__(self):\n",
    "        # Inicilización del objeto padre\n",
    "        super(MyBlock, self).__init__()\n",
    "        \n",
    "        self.conv = nn.Sequential(\n",
    "            nn.Conv2d(in_channels=3, out_channels=3, kernel_size=3, stride=1, padding=0),\n",
    "            nn.BatchNorm2d(num_features=3),\n",
    "            nn.ReLU(),\n",
    "        )\n",
    "        \n",
    "    def forward(self, x):\n",
    "        \n",
    "        return self.conv(x)"
   ]
  },
  {
   "cell_type": "code",
   "execution_count": null,
   "metadata": {
    "id": "AyCwq4DhjGkk"
   },
   "outputs": [],
   "source": [
    "class ResNetBlock(nn.Module):\n",
    "\n",
    "    def __init__(self):\n",
    "        # Inicilización del objeto padre\n",
    "        super(ResNetBlock, self).__init__()\n",
    "        \n",
    "        # Primera convolución\n",
    "        self.conv1 = nn.Sequential(\n",
    "            nn.Conv2d(in_channels=3, out_channels=3, kernel_size=3, stride=1, padding=1),\n",
    "            nn.BatchNorm2d(num_features=3),\n",
    "            nn.ReLU(),\n",
    "            nn.Conv2d(in_channels=3, out_channels=3, kernel_size=3, stride=1, padding=1),\n",
    "            nn.BatchNorm2d(num_features=3),\n",
    "            nn.ReLU()\n",
    "        )\n",
    "        \n",
    "        # Segunda convolución\n",
    "        self.conv2 = nn.Conv2d(in_channels=3, out_channels=3, kernel_size=1, stride=1, padding=0)\n",
    "        \n",
    "    def forward(self, x):\n",
    "        \n",
    "        return self.conv1(x) + self.conv2(x)"
   ]
  },
  {
   "cell_type": "code",
   "execution_count": null,
   "metadata": {
    "id": "1EWFE8CfLT1d"
   },
   "outputs": [],
   "source": [
    "class CNN(nn.Module):\n",
    "    # inicializador\n",
    "    def __init__(self):        \n",
    "        # inicilización del objeto padre\n",
    "        super(CNN, self).__init__()\n",
    "               \n",
    "        # definición de capas\n",
    "        \n",
    "        # Usando el bloque MyBlock\n",
    "#         self.conv = nn.Sequential(\n",
    "#             # [M, 3, 32, 32] -> [M, 3, 30, 30]\n",
    "#             MyBlock(),\n",
    "#             # [M, 3, 30, 30] -> [M, 3, 15, 15]\n",
    "#             nn.MaxPool2d(kernel_size=2),    \n",
    "#             # [M, 3, 15, 15] -> [M, 3, 13, 13]\n",
    "#             MyBlock(),\n",
    "#             # [M, 3, 13, 13] -> [M, 3, 6, 6]\n",
    "#             nn.MaxPool2d(kernel_size=2),    \n",
    "#         )\n",
    "\n",
    "        # Usando el bloque de ResNet\n",
    "        self.conv = nn.Sequential(\n",
    "            # [M, 3, 32, 32] -> [M, 3, 32, 32]\n",
    "            ResNetBlock(),\n",
    "            # [M, 3, 32, 32] -> [M, 3, 16, 16]\n",
    "            nn.MaxPool2d(kernel_size=2),  \n",
    "            # [M, 3, 16, 16] -> [M, 3, 16, 16]\n",
    "            ResNetBlock(),\n",
    "            # [M, 3, 16, 16] -> [M, 3, 8, 8]\n",
    "            nn.MaxPool2d(kernel_size=2),  \n",
    "        )\n",
    "        \n",
    "        self.flatten = nn.Flatten()\n",
    "        \n",
    "        # Con 1 bloque MyBlock\n",
    "        # in_features = 3*15*15\n",
    "        \n",
    "        # Con 2 bloques MyBlock\n",
    "        # in_features = 3*6*6\n",
    "        \n",
    "        # Con 1 bloque ResNetBlock\n",
    "        # in_features = 3*16*16\n",
    "        \n",
    "        # Con 2 bloques ResNetBlock\n",
    "        in_features = 3*8*8\n",
    "\n",
    "        self.cls = nn.Sequential(\n",
    "            nn.Linear(in_features, 50),\n",
    "            nn.ReLU(),\n",
    "            nn.Linear(50, 30),\n",
    "            nn.ReLU(),\n",
    "            nn.Linear(30, 10)\n",
    "        )\n",
    "    \n",
    "    # método para inferencia\n",
    "    def forward(self, x):        \n",
    "        x = self.conv(x)\n",
    "        x = self.flatten(x)\n",
    "        x = self.cls(x)\n",
    "        \n",
    "        return x"
   ]
  },
  {
   "cell_type": "code",
   "execution_count": null,
   "metadata": {
    "id": "yC10nKe_LccT"
   },
   "outputs": [],
   "source": [
    "def train_epoch(dataloader, model, opt):\n",
    "\n",
    "    # por cada lote\n",
    "    for x, y_true in dataloader:\n",
    "        # Los pasamos a la GPU, en caso de que haya\n",
    "        x, y_true = x.to(device), y_true.to(device)\n",
    "        \n",
    "        # computamos logits\n",
    "        y_lgts = model(x)\n",
    "        \n",
    "        # computamos la pérdida\n",
    "        loss = F.cross_entropy(y_lgts, y_true)\n",
    "        \n",
    "        # vaciamos los gradientes\n",
    "        opt.zero_grad()\n",
    "        \n",
    "        # retropropagamos\n",
    "        loss.backward()\n",
    "        \n",
    "        # actualizamos parámetros\n",
    "        opt.step()"
   ]
  },
  {
   "cell_type": "code",
   "execution_count": null,
   "metadata": {
    "id": "l_bA5-6fLdBl"
   },
   "outputs": [],
   "source": [
    "def eval_epoch(dl, model, num_batches=None):\n",
    "\n",
    "    # evitamos que se registren las operaciones \n",
    "    # en la gráfica de cómputo\n",
    "    with torch.no_grad():\n",
    "\n",
    "        # historiales\n",
    "        losses, accs = [], []\n",
    "\n",
    "        # validación de la época con num_batches\n",
    "        # si num_batches==None, se usan todos los lotes\n",
    "        for x, y_true in take(dl, num_batches):\n",
    "            # Los pasamos a la GPU, en caso de que haya\n",
    "            x, y_true = x.to(device), y_true.to(device)\n",
    "\n",
    "            # computamos los logits\n",
    "            y_lgts = model(x)\n",
    "\n",
    "            # computamos los puntajes\n",
    "            y_prob = F.softmax(y_lgts, 1)\n",
    "\n",
    "            # computamos la clases\n",
    "            y_pred = torch.argmax(y_prob, 1)\n",
    "\n",
    "            # computamos la pérdida\n",
    "            loss = F.cross_entropy(y_lgts, y_true)\n",
    "\n",
    "            # computamos la exactitud\n",
    "            acc = (y_true == y_pred).type(torch.float32).mean()\n",
    "\n",
    "            # guardamos históricos\n",
    "            losses.append(loss.item())\n",
    "            accs.append(acc.item())\n",
    "\n",
    "        # promediamos\n",
    "        loss = np.mean(losses) * 100\n",
    "        acc = np.mean(accs) * 100\n",
    "\n",
    "        return loss, acc"
   ]
  },
  {
   "cell_type": "code",
   "execution_count": null,
   "metadata": {
    "id": "ZBSHBwOaLe0H"
   },
   "outputs": [],
   "source": [
    "def train(model, trn_dl, tst_dl, lr=1e-3, epochs=20, trn_batches=None, tst_batches=None):\n",
    "\n",
    "    # historiales\n",
    "    loss_hist, acc_hist = [], []\n",
    "    \n",
    "    # optimizador\n",
    "    opt = optim.Adam(model.parameters(), lr=lr)\n",
    "\n",
    "    # ciclo de entrenamiento\n",
    "    for epoch in trange(epochs):\n",
    "\n",
    "        # entrenamos la época\n",
    "        train_epoch(trn_dl, model, opt)\n",
    "\n",
    "        # evaluamos la época en entrenamiento\n",
    "        trn_loss, trn_acc = eval_epoch(trn_dl, model, trn_batches)\n",
    "        # evaluamos la época en prueba\n",
    "        tst_loss, tst_acc = eval_epoch(tst_dl, model, tst_batches)\n",
    "\n",
    "        # guardamos historial\n",
    "        loss_hist.append([trn_loss, tst_loss])\n",
    "        acc_hist.append([trn_acc, tst_acc])\n",
    "\n",
    "        # imprimimos progreso\n",
    "        print(f'E{epoch:02} '\n",
    "              f'loss=[{trn_loss:6.2f},{tst_loss:6.2f}] '\n",
    "              f'acc=[{trn_acc:5.2f},{tst_acc:5.2f}]')\n",
    "\n",
    "    return loss_hist, acc_hist"
   ]
  },
  {
   "cell_type": "markdown",
   "metadata": {
    "id": "UlQoFyICLyqJ"
   },
   "source": [
    "Instanciamos nuestro modelo y vemos cuántos parámetros tiene."
   ]
  },
  {
   "cell_type": "code",
   "execution_count": null,
   "metadata": {
    "colab": {
     "base_uri": "https://localhost:8080/"
    },
    "id": "Yk2xq4TsLzmW",
    "outputId": "e1042a15-9b8c-4d30-f4ac-baeb0a3416d6"
   },
   "outputs": [
    {
     "data": {
      "text/plain": [
       "tensor([[ 0.0150,  0.1307,  0.0491, -0.3094,  0.0149, -0.1122, -0.0408, -0.0853,\n",
       "         -0.0684,  0.1098]], grad_fn=<AddmmBackward>)"
      ]
     },
     "execution_count": 18,
     "metadata": {
      "tags": []
     },
     "output_type": "execute_result"
    }
   ],
   "source": [
    "# Definimos nuestro modelo y probamos con unos datos sintéticos\n",
    "model = CNN()\n",
    "x = torch.zeros(1,3,32,32)\n",
    "model(x)"
   ]
  },
  {
   "cell_type": "code",
   "execution_count": null,
   "metadata": {
    "colab": {
     "base_uri": "https://localhost:8080/"
    },
    "id": "HUXh469zL1QU",
    "outputId": "48f36ade-8c0e-4c52-b81a-02aa811717c1"
   },
   "outputs": [
    {
     "data": {
      "text/plain": [
       "CNN(\n",
       "  (conv): Sequential(\n",
       "    (0): ResNetBlock(\n",
       "      (conv1): Sequential(\n",
       "        (0): Conv2d(3, 3, kernel_size=(3, 3), stride=(1, 1), padding=(1, 1))\n",
       "        (1): BatchNorm2d(3, eps=1e-05, momentum=0.1, affine=True, track_running_stats=True)\n",
       "        (2): ReLU()\n",
       "        (3): Conv2d(3, 3, kernel_size=(3, 3), stride=(1, 1), padding=(1, 1))\n",
       "        (4): BatchNorm2d(3, eps=1e-05, momentum=0.1, affine=True, track_running_stats=True)\n",
       "        (5): ReLU()\n",
       "      )\n",
       "      (conv2): Conv2d(3, 3, kernel_size=(1, 1), stride=(1, 1))\n",
       "    )\n",
       "    (1): MaxPool2d(kernel_size=2, stride=2, padding=0, dilation=1, ceil_mode=False)\n",
       "    (2): ResNetBlock(\n",
       "      (conv1): Sequential(\n",
       "        (0): Conv2d(3, 3, kernel_size=(3, 3), stride=(1, 1), padding=(1, 1))\n",
       "        (1): BatchNorm2d(3, eps=1e-05, momentum=0.1, affine=True, track_running_stats=True)\n",
       "        (2): ReLU()\n",
       "        (3): Conv2d(3, 3, kernel_size=(3, 3), stride=(1, 1), padding=(1, 1))\n",
       "        (4): BatchNorm2d(3, eps=1e-05, momentum=0.1, affine=True, track_running_stats=True)\n",
       "        (5): ReLU()\n",
       "      )\n",
       "      (conv2): Conv2d(3, 3, kernel_size=(1, 1), stride=(1, 1))\n",
       "    )\n",
       "    (3): MaxPool2d(kernel_size=2, stride=2, padding=0, dilation=1, ceil_mode=False)\n",
       "  )\n",
       "  (flatten): Flatten(start_dim=1, end_dim=-1)\n",
       "  (cls): Sequential(\n",
       "    (0): Linear(in_features=192, out_features=50, bias=True)\n",
       "    (1): ReLU()\n",
       "    (2): Linear(in_features=50, out_features=30, bias=True)\n",
       "    (3): ReLU()\n",
       "    (4): Linear(in_features=30, out_features=10, bias=True)\n",
       "  )\n",
       ")"
      ]
     },
     "execution_count": 19,
     "metadata": {
      "tags": []
     },
     "output_type": "execute_result"
    }
   ],
   "source": [
    "# Lo movemos a la GPU, en caso de que haya\n",
    "model.to(device)"
   ]
  },
  {
   "cell_type": "code",
   "execution_count": null,
   "metadata": {
    "colab": {
     "base_uri": "https://localhost:8080/"
    },
    "id": "b57cUm53MBPv",
    "outputId": "90fee5ab-9170-4fa7-c307-98f324a8f85e"
   },
   "outputs": [
    {
     "data": {
      "text/plain": [
       "==========================================================================================\n",
       "Layer (type:depth-idx)                   Output Shape              Param #\n",
       "==========================================================================================\n",
       "├─Sequential: 1-1                        [1, 3, 8, 8]              --\n",
       "|    └─ResNetBlock: 2-1                  [1, 3, 32, 32]            --\n",
       "|    |    └─Sequential: 3-1              [1, 3, 32, 32]            180\n",
       "|    |    └─Conv2d: 3-2                  [1, 3, 32, 32]            12\n",
       "|    └─MaxPool2d: 2-2                    [1, 3, 16, 16]            --\n",
       "|    └─ResNetBlock: 2-3                  [1, 3, 16, 16]            --\n",
       "|    |    └─Sequential: 3-3              [1, 3, 16, 16]            180\n",
       "|    |    └─Conv2d: 3-4                  [1, 3, 16, 16]            12\n",
       "|    └─MaxPool2d: 2-4                    [1, 3, 8, 8]              --\n",
       "├─Flatten: 1-2                           [1, 192]                  --\n",
       "├─Sequential: 1-3                        [1, 10]                   --\n",
       "|    └─Linear: 2-5                       [1, 50]                   9,650\n",
       "|    └─ReLU: 2-6                         [1, 50]                   --\n",
       "|    └─Linear: 2-7                       [1, 30]                   1,530\n",
       "|    └─ReLU: 2-8                         [1, 30]                   --\n",
       "|    └─Linear: 2-9                       [1, 10]                   310\n",
       "==========================================================================================\n",
       "Total params: 11,874\n",
       "Trainable params: 11,874\n",
       "Non-trainable params: 0\n",
       "Total mult-adds (M): 0.24\n",
       "==========================================================================================\n",
       "Input size (MB): 0.01\n",
       "Forward/backward pass size (MB): 0.15\n",
       "Params size (MB): 0.05\n",
       "Estimated Total Size (MB): 0.21\n",
       "=========================================================================================="
      ]
     },
     "execution_count": 20,
     "metadata": {
      "tags": []
     },
     "output_type": "execute_result"
    }
   ],
   "source": [
    "summary(model, input_size=(1, 3, 32, 32), device=device, verbose=0)"
   ]
  },
  {
   "cell_type": "markdown",
   "metadata": {
    "id": "F_o0EW26MQyd"
   },
   "source": [
    "### Entrenamiento"
   ]
  },
  {
   "cell_type": "code",
   "execution_count": null,
   "metadata": {
    "colab": {
     "base_uri": "https://localhost:8080/"
    },
    "id": "hia3aIWEMIPd",
    "outputId": "a925da83-aa62-448d-c482-196c51107a9a"
   },
   "outputs": [
    {
     "name": "stderr",
     "output_type": "stream",
     "text": [
      "  5%|▌         | 1/20 [01:30<28:45, 90.83s/it]"
     ]
    },
    {
     "name": "stdout",
     "output_type": "stream",
     "text": [
      "E00 loss=[144.66,146.76] acc=[48.05,47.24]\n"
     ]
    },
    {
     "name": "stderr",
     "output_type": "stream",
     "text": [
      " 10%|█         | 2/20 [03:01<27:12, 90.68s/it]"
     ]
    },
    {
     "name": "stdout",
     "output_type": "stream",
     "text": [
      "E01 loss=[132.06,136.00] acc=[53.06,51.30]\n"
     ]
    },
    {
     "name": "stderr",
     "output_type": "stream",
     "text": [
      " 15%|█▌        | 3/20 [04:32<25:41, 90.65s/it]"
     ]
    },
    {
     "name": "stdout",
     "output_type": "stream",
     "text": [
      "E02 loss=[121.56,126.83] acc=[57.27,54.53]\n"
     ]
    },
    {
     "name": "stderr",
     "output_type": "stream",
     "text": [
      " 20%|██        | 4/20 [06:02<24:10, 90.63s/it]"
     ]
    },
    {
     "name": "stdout",
     "output_type": "stream",
     "text": [
      "E03 loss=[118.46,125.96] acc=[58.40,55.98]\n"
     ]
    },
    {
     "name": "stderr",
     "output_type": "stream",
     "text": [
      " 25%|██▌       | 5/20 [07:33<22:40, 90.70s/it]"
     ]
    },
    {
     "name": "stdout",
     "output_type": "stream",
     "text": [
      "E04 loss=[112.65,122.18] acc=[60.62,56.81]\n"
     ]
    },
    {
     "name": "stderr",
     "output_type": "stream",
     "text": [
      " 30%|███       | 6/20 [09:02<21:02, 90.18s/it]"
     ]
    },
    {
     "name": "stdout",
     "output_type": "stream",
     "text": [
      "E05 loss=[108.51,119.26] acc=[62.20,57.83]\n"
     ]
    },
    {
     "name": "stderr",
     "output_type": "stream",
     "text": [
      " 35%|███▌      | 7/20 [10:32<19:30, 90.01s/it]"
     ]
    },
    {
     "name": "stdout",
     "output_type": "stream",
     "text": [
      "E06 loss=[107.06,118.73] acc=[62.65,58.80]\n"
     ]
    },
    {
     "name": "stderr",
     "output_type": "stream",
     "text": [
      " 40%|████      | 8/20 [12:00<17:53, 89.45s/it]"
     ]
    },
    {
     "name": "stdout",
     "output_type": "stream",
     "text": [
      "E07 loss=[104.13,117.06] acc=[63.87,59.36]\n"
     ]
    },
    {
     "name": "stderr",
     "output_type": "stream",
     "text": [
      " 45%|████▌     | 9/20 [13:28<16:20, 89.14s/it]"
     ]
    },
    {
     "name": "stdout",
     "output_type": "stream",
     "text": [
      "E08 loss=[105.24,120.17] acc=[63.40,58.33]\n"
     ]
    },
    {
     "name": "stderr",
     "output_type": "stream",
     "text": [
      " 50%|█████     | 10/20 [15:00<14:57, 89.73s/it]"
     ]
    },
    {
     "name": "stdout",
     "output_type": "stream",
     "text": [
      "E09 loss=[101.35,116.62] acc=[64.96,59.37]\n"
     ]
    },
    {
     "name": "stderr",
     "output_type": "stream",
     "text": [
      " 55%|█████▌    | 11/20 [16:30<13:28, 89.85s/it]"
     ]
    },
    {
     "name": "stdout",
     "output_type": "stream",
     "text": [
      "E10 loss=[101.21,116.88] acc=[64.92,59.95]\n"
     ]
    },
    {
     "name": "stderr",
     "output_type": "stream",
     "text": [
      " 60%|██████    | 12/20 [17:56<11:51, 88.92s/it]"
     ]
    },
    {
     "name": "stdout",
     "output_type": "stream",
     "text": [
      "E11 loss=[ 98.30,114.97] acc=[65.85,60.60]\n"
     ]
    },
    {
     "name": "stderr",
     "output_type": "stream",
     "text": [
      " 65%|██████▌   | 13/20 [19:28<10:27, 89.62s/it]"
     ]
    },
    {
     "name": "stdout",
     "output_type": "stream",
     "text": [
      "E12 loss=[ 98.21,116.97] acc=[66.06,60.48]\n"
     ]
    },
    {
     "name": "stderr",
     "output_type": "stream",
     "text": [
      " 70%|███████   | 14/20 [20:58<08:59, 89.92s/it]"
     ]
    },
    {
     "name": "stdout",
     "output_type": "stream",
     "text": [
      "E13 loss=[ 97.96,116.43] acc=[65.98,59.88]\n"
     ]
    },
    {
     "name": "stderr",
     "output_type": "stream",
     "text": [
      " 75%|███████▌  | 15/20 [22:29<07:30, 90.13s/it]"
     ]
    },
    {
     "name": "stdout",
     "output_type": "stream",
     "text": [
      "E14 loss=[ 98.14,117.55] acc=[66.02,60.00]\n"
     ]
    },
    {
     "name": "stderr",
     "output_type": "stream",
     "text": [
      " 80%|████████  | 16/20 [24:01<06:02, 90.62s/it]"
     ]
    },
    {
     "name": "stdout",
     "output_type": "stream",
     "text": [
      "E15 loss=[ 97.50,116.90] acc=[66.23,59.82]\n"
     ]
    },
    {
     "name": "stderr",
     "output_type": "stream",
     "text": [
      " 85%|████████▌ | 17/20 [25:30<04:30, 90.24s/it]"
     ]
    },
    {
     "name": "stdout",
     "output_type": "stream",
     "text": [
      "E16 loss=[ 96.56,116.24] acc=[66.33,60.40]\n"
     ]
    },
    {
     "name": "stderr",
     "output_type": "stream",
     "text": [
      " 90%|█████████ | 18/20 [26:58<02:59, 89.63s/it]"
     ]
    },
    {
     "name": "stdout",
     "output_type": "stream",
     "text": [
      "E17 loss=[ 95.63,115.55] acc=[66.88,60.07]\n"
     ]
    },
    {
     "name": "stderr",
     "output_type": "stream",
     "text": [
      " 95%|█████████▌| 19/20 [28:27<01:29, 89.32s/it]"
     ]
    },
    {
     "name": "stdout",
     "output_type": "stream",
     "text": [
      "E18 loss=[ 94.60,115.08] acc=[67.28,60.40]\n"
     ]
    },
    {
     "name": "stderr",
     "output_type": "stream",
     "text": [
      "100%|██████████| 20/20 [29:57<00:00, 89.89s/it]"
     ]
    },
    {
     "name": "stdout",
     "output_type": "stream",
     "text": [
      "E19 loss=[ 96.38,117.49] acc=[66.66,60.30]\n"
     ]
    },
    {
     "name": "stderr",
     "output_type": "stream",
     "text": [
      "\n"
     ]
    }
   ],
   "source": [
    "loss_hist, acc_hist = train(model, trainloader, testloader, lr=0.001)"
   ]
  },
  {
   "cell_type": "markdown",
   "metadata": {
    "id": "LHS_HNtEMZjg"
   },
   "source": [
    "### Gráficas de pérdida y accuracy"
   ]
  },
  {
   "cell_type": "code",
   "execution_count": null,
   "metadata": {
    "colab": {
     "base_uri": "https://localhost:8080/",
     "height": 390
    },
    "id": "4Sm1ohXJMaFz",
    "outputId": "df6652c3-02ed-46c7-fe88-06e3e0205350"
   },
   "outputs": [
    {
     "data": {
      "image/png": "[encoded data removed]",
      "text/plain": [
       "<Figure size 1440x432 with 2 Axes>"
      ]
     },
     "metadata": {
      "tags": []
     },
     "output_type": "display_data"
    }
   ],
   "source": [
    "fig, (ax0, ax1) = plt.subplots(nrows=1, ncols=2, figsize=(20,6))\n",
    "\n",
    "trn_loss, tst_loss = zip(*loss_hist)\n",
    "ax0.plot(trn_loss, 'orange', label='Train loss')\n",
    "ax0.plot(tst_loss, 'red', label='Test loss')\n",
    "ax0.set_xlabel('Época', weight='bold')\n",
    "ax0.set_ylabel('Loss', weight='bold')\n",
    "ax0.legend()\n",
    "\n",
    "trn_acc, tst_acc = zip(*acc_hist)\n",
    "ax1.plot(trn_acc, 'green', label='Train acc')\n",
    "ax1.plot(tst_acc, 'blue', label='Test acc')\n",
    "ax1.set_xlabel('Época', weight='bold')\n",
    "ax1.set_ylabel('exactitud', weight='bold')\n",
    "ax1.legend()\n",
    "\n",
    "plt.show()"
   ]
  },
  {
   "cell_type": "markdown",
   "metadata": {
    "id": "a6RjmybyMfdS"
   },
   "source": [
    "### Evaluación final"
   ]
  },
  {
   "cell_type": "code",
   "execution_count": null,
   "metadata": {
    "colab": {
     "base_uri": "https://localhost:8080/"
    },
    "id": "b7eh9BPRMbOP",
    "outputId": "316ec40d-f955-4780-dbc1-0a0499db6a40"
   },
   "outputs": [
    {
     "name": "stdout",
     "output_type": "stream",
     "text": [
      "loss=[ 96.42,117.56] acc=[66.68,60.65]\n"
     ]
    }
   ],
   "source": [
    "# Evaluamos en entrenamiento\n",
    "trn_loss, trn_acc = eval_epoch(trainloader, model)\n",
    "# Evaluamos en prueba\n",
    "tst_loss, tst_acc = eval_epoch(testloader, model)\n",
    "\n",
    "print(f'loss=[{trn_loss:6.2f},{tst_loss:6.2f}] '\n",
    "      f'acc=[{trn_acc:5.2f},{tst_acc:5.2f}]')"
   ]
  },
  {
   "cell_type": "markdown",
   "metadata": {
    "id": "ZeWkoCzKMhxy"
   },
   "source": [
    "### Predicciones"
   ]
  },
  {
   "cell_type": "code",
   "execution_count": null,
   "metadata": {
    "colab": {
     "base_uri": "https://localhost:8080/",
     "height": 305
    },
    "id": "OJM5vnoqMirT",
    "outputId": "e1ea4e47-7339-4363-da96-4e55b5d73f32"
   },
   "outputs": [
    {
     "data": {
      "image/png": "[encoded data removed]",
      "text/plain": [
       "<Figure size 1440x360 with 4 Axes>"
      ]
     },
     "metadata": {
      "tags": []
     },
     "output_type": "display_data"
    }
   ],
   "source": [
    "with torch.no_grad(): \n",
    "    images, true_labels = next(iter(testloader))\n",
    "    images = images.to(device)\n",
    "    y_lgts = model(images.to(device))\n",
    "    y_prob = F.softmax(y_lgts, 1)\n",
    "    y_pred = torch.argmax(y_prob, 1)\n",
    "    pred_labels = list(y_pred.cpu().numpy())\n",
    "\n",
    "    show_images(images.cpu(), true_labels, pred_labels)"
   ]
  },
  {
   "cell_type": "markdown",
   "metadata": {
    "id": "yq2ev0HoMj5B"
   },
   "source": [
    "### Discusión\n",
    "\n",
    "|           **Modelo**          | **# de parámetros** | **Tiempo (GPU)** | **Accuracy (train, test)** |\n",
    "|:-----------------------------:|:-------------------:|:----------------:|:--------------------------:|\n",
    "|         FCN (tarea 1)         |        61,670       |       09:35      |        51.33, 46.14        |\n",
    "|  CNN (con 1 bloque *MyBlock*) |        35,730       |       15:16      |        55.34, 49.27        |\n",
    "| CNN (con 2 bloques *MyBlock*) |        7,470        |       19:12      |        51.92, 48.92        |\n",
    "|  CNN (con 1 bloque *ResNet*)  |        40,482       |       19:56      |        73.60, 54.36        |\n",
    "|  CNN (con 2 bloques *ResNet*) |        11,874       |       29:57      |        66.68, 60.65       |\n",
    "\n",
    "Usando el bloque que yo definí se pueden mejorar los resultados del clasificador de la tarea 1 y con muchos menos parámetros, aunque el tiempo de entrenamiento es mayor debido a que la arquitectura es un poco más complicada. Usar más de estos bloques parece no ayudar, probablemente se deba a que al hacer el MaxPool se pierdan algunas características de las imágenes que de por sí ya están bastante pixeladas.\n",
    "\n",
    "En cuanto al bloque de ResNet se obtienen resultados claramente mejores, aunque con únicamente un bloque de ResNet parece estar sobreajustándose, pues como se observa en la tabla de arriba con un bloque de ResNet hay una diferencia notable en el accuracy en train y test. Al usar dos bloques de ResNet se reduce un poco el rendimiento pero parece disminuir el sobreajuste, por lo que para estos experimentos este modelo con dos bloques de ResNet parece ser el mejor."
   ]
  },
  {
   "cell_type": "code",
   "execution_count": null,
   "metadata": {
    "id": "PBQgyS4BjGko"
   },
   "outputs": [],
   "source": []
  }
 ],
 "metadata": {
  "accelerator": "GPU",
  "colab": {
   "include_colab_link": true,
   "name": "Tarea_2_ejercicio_1.ipynb",
   "provenance": [],
   "toc_visible": true
  },
  "kernelspec": {
   "display_name": "Python 3",
   "language": "python",
   "name": "python3"
  },
  "language_info": {
   "codemirror_mode": {
    "name": "ipython",
    "version": 3
   },
   "file_extension": ".py",
   "mimetype": "text/x-python",
   "name": "python",
   "nbconvert_exporter": "python",
   "pygments_lexer": "ipython3",
   "version": "3.7.3"
  },
  "widgets": {
   "application/vnd.jupyter.widget-state+json": {
    "0743395b0a6049f6a09ae4f7332a3eae": {
     "model_module": "@jupyter-widgets/controls",
     "model_name": "ProgressStyleModel",
     "state": {
      "_model_module": "@jupyter-widgets/controls",
      "_model_module_version": "1.5.0",
      "_model_name": "ProgressStyleModel",
      "_view_count": null,
      "_view_module": "@jupyter-widgets/base",
      "_view_module_version": "1.2.0",
      "_view_name": "StyleView",
      "bar_color": null,
      "description_width": "initial"
     }
    },
    "465d5d5ed617453980b321edb021c891": {
     "model_module": "@jupyter-widgets/controls",
     "model_name": "HTMLModel",
     "state": {
      "_dom_classes": [],
      "_model_module": "@jupyter-widgets/controls",
      "_model_module_version": "1.5.0",
      "_model_name": "HTMLModel",
      "_view_count": null,
      "_view_module": "@jupyter-widgets/controls",
      "_view_module_version": "1.5.0",
      "_view_name": "HTMLView",
      "description": "",
      "description_tooltip": null,
      "layout": "IPY_MODEL_eac7d81bac1a45509bec373bf5644849",
      "placeholder": "​",
      "style": "IPY_MODEL_be9adb59cf8d4ae5a336a046c1defe08",
      "value": " 170499072/? [00:16&lt;00:00, 10421022.60it/s]"
     }
    },
    "649c42c47e7449f2ae36d608c6104025": {
     "model_module": "@jupyter-widgets/base",
     "model_name": "LayoutModel",
     "state": {
      "_model_module": "@jupyter-widgets/base",
      "_model_module_version": "1.2.0",
      "_model_name": "LayoutModel",
      "_view_count": null,
      "_view_module": "@jupyter-widgets/base",
      "_view_module_version": "1.2.0",
      "_view_name": "LayoutView",
      "align_content": null,
      "align_items": null,
      "align_self": null,
      "border": null,
      "bottom": null,
      "display": null,
      "flex": null,
      "flex_flow": null,
      "grid_area": null,
      "grid_auto_columns": null,
      "grid_auto_flow": null,
      "grid_auto_rows": null,
      "grid_column": null,
      "grid_gap": null,
      "grid_row": null,
      "grid_template_areas": null,
      "grid_template_columns": null,
      "grid_template_rows": null,
      "height": null,
      "justify_content": null,
      "justify_items": null,
      "left": null,
      "margin": null,
      "max_height": null,
      "max_width": null,
      "min_height": null,
      "min_width": null,
      "object_fit": null,
      "object_position": null,
      "order": null,
      "overflow": null,
      "overflow_x": null,
      "overflow_y": null,
      "padding": null,
      "right": null,
      "top": null,
      "visibility": null,
      "width": null
     }
    },
    "769b609ddd204c8baa9bb0c9269e1aab": {
     "model_module": "@jupyter-widgets/controls",
     "model_name": "FloatProgressModel",
     "state": {
      "_dom_classes": [],
      "_model_module": "@jupyter-widgets/controls",
      "_model_module_version": "1.5.0",
      "_model_name": "FloatProgressModel",
      "_view_count": null,
      "_view_module": "@jupyter-widgets/controls",
      "_view_module_version": "1.5.0",
      "_view_name": "ProgressView",
      "bar_style": "success",
      "description": "",
      "description_tooltip": null,
      "layout": "IPY_MODEL_649c42c47e7449f2ae36d608c6104025",
      "max": 170498071,
      "min": 0,
      "orientation": "horizontal",
      "style": "IPY_MODEL_0743395b0a6049f6a09ae4f7332a3eae",
      "value": 170498071
     }
    },
    "be9adb59cf8d4ae5a336a046c1defe08": {
     "model_module": "@jupyter-widgets/controls",
     "model_name": "DescriptionStyleModel",
     "state": {
      "_model_module": "@jupyter-widgets/controls",
      "_model_module_version": "1.5.0",
      "_model_name": "DescriptionStyleModel",
      "_view_count": null,
      "_view_module": "@jupyter-widgets/base",
      "_view_module_version": "1.2.0",
      "_view_name": "StyleView",
      "description_width": ""
     }
    },
    "d497460d1474462e8e2b48b62d7104be": {
     "model_module": "@jupyter-widgets/controls",
     "model_name": "HBoxModel",
     "state": {
      "_dom_classes": [],
      "_model_module": "@jupyter-widgets/controls",
      "_model_module_version": "1.5.0",
      "_model_name": "HBoxModel",
      "_view_count": null,
      "_view_module": "@jupyter-widgets/controls",
      "_view_module_version": "1.5.0",
      "_view_name": "HBoxView",
      "box_style": "",
      "children": [
       "IPY_MODEL_769b609ddd204c8baa9bb0c9269e1aab",
       "IPY_MODEL_465d5d5ed617453980b321edb021c891"
      ],
      "layout": "IPY_MODEL_ed5c7230c65c4f9e9a4d94e5c0e0769c"
     }
    },
    "eac7d81bac1a45509bec373bf5644849": {
     "model_module": "@jupyter-widgets/base",
     "model_name": "LayoutModel",
     "state": {
      "_model_module": "@jupyter-widgets/base",
      "_model_module_version": "1.2.0",
      "_model_name": "LayoutModel",
      "_view_count": null,
      "_view_module": "@jupyter-widgets/base",
      "_view_module_version": "1.2.0",
      "_view_name": "LayoutView",
      "align_content": null,
      "align_items": null,
      "align_self": null,
      "border": null,
      "bottom": null,
      "display": null,
      "flex": null,
      "flex_flow": null,
      "grid_area": null,
      "grid_auto_columns": null,
      "grid_auto_flow": null,
      "grid_auto_rows": null,
      "grid_column": null,
      "grid_gap": null,
      "grid_row": null,
      "grid_template_areas": null,
      "grid_template_columns": null,
      "grid_template_rows": null,
      "height": null,
      "justify_content": null,
      "justify_items": null,
      "left": null,
      "margin": null,
      "max_height": null,
      "max_width": null,
      "min_height": null,
      "min_width": null,
      "object_fit": null,
      "object_position": null,
      "order": null,
      "overflow": null,
      "overflow_x": null,
      "overflow_y": null,
      "padding": null,
      "right": null,
      "top": null,
      "visibility": null,
      "width": null
     }
    },
    "ed5c7230c65c4f9e9a4d94e5c0e0769c": {
     "model_module": "@jupyter-widgets/base",
     "model_name": "LayoutModel",
     "state": {
      "_model_module": "@jupyter-widgets/base",
      "_model_module_version": "1.2.0",
      "_model_name": "LayoutModel",
      "_view_count": null,
      "_view_module": "@jupyter-widgets/base",
      "_view_module_version": "1.2.0",
      "_view_name": "LayoutView",
      "align_content": null,
      "align_items": null,
      "align_self": null,
      "border": null,
      "bottom": null,
      "display": null,
      "flex": null,
      "flex_flow": null,
      "grid_area": null,
      "grid_auto_columns": null,
      "grid_auto_flow": null,
      "grid_auto_rows": null,
      "grid_column": null,
      "grid_gap": null,
      "grid_row": null,
      "grid_template_areas": null,
      "grid_template_columns": null,
      "grid_template_rows": null,
      "height": null,
      "justify_content": null,
      "justify_items": null,
      "left": null,
      "margin": null,
      "max_height": null,
      "max_width": null,
      "min_height": null,
      "min_width": null,
      "object_fit": null,
      "object_position": null,
      "order": null,
      "overflow": null,
      "overflow_x": null,
      "overflow_y": null,
      "padding": null,
      "right": null,
      "top": null,
      "visibility": null,
      "width": null
     }
    }
   }
  }
 },
 "nbformat": 4,
 "nbformat_minor": 4
}
