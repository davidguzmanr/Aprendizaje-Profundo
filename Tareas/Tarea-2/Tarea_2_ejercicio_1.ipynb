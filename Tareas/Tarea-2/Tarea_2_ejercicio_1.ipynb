{
  "nbformat": 4,
  "nbformat_minor": 0,
  "metadata": {
    "accelerator": "GPU",
    "colab": {
      "name": "Tarea_2_ejercicio_1.ipynb",
      "provenance": [],
      "toc_visible": true,
      "include_colab_link": true
    },
    "kernelspec": {
      "display_name": "Python 3",
      "language": "python",
      "name": "python3"
    },
    "language_info": {
      "codemirror_mode": {
        "name": "ipython",
        "version": 3
      },
      "file_extension": ".py",
      "mimetype": "text/x-python",
      "name": "python",
      "nbconvert_exporter": "python",
      "pygments_lexer": "ipython3",
      "version": "3.7.3"
    },
    "widgets": {
      "application/vnd.jupyter.widget-state+json": {
        "d497460d1474462e8e2b48b62d7104be": {
          "model_module": "@jupyter-widgets/controls",
          "model_name": "HBoxModel",
          "state": {
            "_dom_classes": [],
            "_model_module": "@jupyter-widgets/controls",
            "_model_module_version": "1.5.0",
            "_model_name": "HBoxModel",
            "_view_count": null,
            "_view_module": "@jupyter-widgets/controls",
            "_view_module_version": "1.5.0",
            "_view_name": "HBoxView",
            "box_style": "",
            "children": [
              "IPY_MODEL_769b609ddd204c8baa9bb0c9269e1aab",
              "IPY_MODEL_465d5d5ed617453980b321edb021c891"
            ],
            "layout": "IPY_MODEL_ed5c7230c65c4f9e9a4d94e5c0e0769c"
          }
        },
        "ed5c7230c65c4f9e9a4d94e5c0e0769c": {
          "model_module": "@jupyter-widgets/base",
          "model_name": "LayoutModel",
          "state": {
            "_model_module": "@jupyter-widgets/base",
            "_model_module_version": "1.2.0",
            "_model_name": "LayoutModel",
            "_view_count": null,
            "_view_module": "@jupyter-widgets/base",
            "_view_module_version": "1.2.0",
            "_view_name": "LayoutView",
            "align_content": null,
            "align_items": null,
            "align_self": null,
            "border": null,
            "bottom": null,
            "display": null,
            "flex": null,
            "flex_flow": null,
            "grid_area": null,
            "grid_auto_columns": null,
            "grid_auto_flow": null,
            "grid_auto_rows": null,
            "grid_column": null,
            "grid_gap": null,
            "grid_row": null,
            "grid_template_areas": null,
            "grid_template_columns": null,
            "grid_template_rows": null,
            "height": null,
            "justify_content": null,
            "justify_items": null,
            "left": null,
            "margin": null,
            "max_height": null,
            "max_width": null,
            "min_height": null,
            "min_width": null,
            "object_fit": null,
            "object_position": null,
            "order": null,
            "overflow": null,
            "overflow_x": null,
            "overflow_y": null,
            "padding": null,
            "right": null,
            "top": null,
            "visibility": null,
            "width": null
          }
        },
        "769b609ddd204c8baa9bb0c9269e1aab": {
          "model_module": "@jupyter-widgets/controls",
          "model_name": "FloatProgressModel",
          "state": {
            "_dom_classes": [],
            "_model_module": "@jupyter-widgets/controls",
            "_model_module_version": "1.5.0",
            "_model_name": "FloatProgressModel",
            "_view_count": null,
            "_view_module": "@jupyter-widgets/controls",
            "_view_module_version": "1.5.0",
            "_view_name": "ProgressView",
            "bar_style": "success",
            "description": "",
            "description_tooltip": null,
            "layout": "IPY_MODEL_649c42c47e7449f2ae36d608c6104025",
            "max": 170498071,
            "min": 0,
            "orientation": "horizontal",
            "style": "IPY_MODEL_0743395b0a6049f6a09ae4f7332a3eae",
            "value": 170498071
          }
        },
        "465d5d5ed617453980b321edb021c891": {
          "model_module": "@jupyter-widgets/controls",
          "model_name": "HTMLModel",
          "state": {
            "_dom_classes": [],
            "_model_module": "@jupyter-widgets/controls",
            "_model_module_version": "1.5.0",
            "_model_name": "HTMLModel",
            "_view_count": null,
            "_view_module": "@jupyter-widgets/controls",
            "_view_module_version": "1.5.0",
            "_view_name": "HTMLView",
            "description": "",
            "description_tooltip": null,
            "layout": "IPY_MODEL_eac7d81bac1a45509bec373bf5644849",
            "placeholder": "​",
            "style": "IPY_MODEL_be9adb59cf8d4ae5a336a046c1defe08",
            "value": " 170499072/? [00:16&lt;00:00, 10421022.60it/s]"
          }
        },
        "0743395b0a6049f6a09ae4f7332a3eae": {
          "model_module": "@jupyter-widgets/controls",
          "model_name": "ProgressStyleModel",
          "state": {
            "_model_module": "@jupyter-widgets/controls",
            "_model_module_version": "1.5.0",
            "_model_name": "ProgressStyleModel",
            "_view_count": null,
            "_view_module": "@jupyter-widgets/base",
            "_view_module_version": "1.2.0",
            "_view_name": "StyleView",
            "bar_color": null,
            "description_width": "initial"
          }
        },
        "649c42c47e7449f2ae36d608c6104025": {
          "model_module": "@jupyter-widgets/base",
          "model_name": "LayoutModel",
          "state": {
            "_model_module": "@jupyter-widgets/base",
            "_model_module_version": "1.2.0",
            "_model_name": "LayoutModel",
            "_view_count": null,
            "_view_module": "@jupyter-widgets/base",
            "_view_module_version": "1.2.0",
            "_view_name": "LayoutView",
            "align_content": null,
            "align_items": null,
            "align_self": null,
            "border": null,
            "bottom": null,
            "display": null,
            "flex": null,
            "flex_flow": null,
            "grid_area": null,
            "grid_auto_columns": null,
            "grid_auto_flow": null,
            "grid_auto_rows": null,
            "grid_column": null,
            "grid_gap": null,
            "grid_row": null,
            "grid_template_areas": null,
            "grid_template_columns": null,
            "grid_template_rows": null,
            "height": null,
            "justify_content": null,
            "justify_items": null,
            "left": null,
            "margin": null,
            "max_height": null,
            "max_width": null,
            "min_height": null,
            "min_width": null,
            "object_fit": null,
            "object_position": null,
            "order": null,
            "overflow": null,
            "overflow_x": null,
            "overflow_y": null,
            "padding": null,
            "right": null,
            "top": null,
            "visibility": null,
            "width": null
          }
        },
        "be9adb59cf8d4ae5a336a046c1defe08": {
          "model_module": "@jupyter-widgets/controls",
          "model_name": "DescriptionStyleModel",
          "state": {
            "_model_module": "@jupyter-widgets/controls",
            "_model_module_version": "1.5.0",
            "_model_name": "DescriptionStyleModel",
            "_view_count": null,
            "_view_module": "@jupyter-widgets/base",
            "_view_module_version": "1.2.0",
            "_view_name": "StyleView",
            "description_width": ""
          }
        },
        "eac7d81bac1a45509bec373bf5644849": {
          "model_module": "@jupyter-widgets/base",
          "model_name": "LayoutModel",
          "state": {
            "_model_module": "@jupyter-widgets/base",
            "_model_module_version": "1.2.0",
            "_model_name": "LayoutModel",
            "_view_count": null,
            "_view_module": "@jupyter-widgets/base",
            "_view_module_version": "1.2.0",
            "_view_name": "LayoutView",
            "align_content": null,
            "align_items": null,
            "align_self": null,
            "border": null,
            "bottom": null,
            "display": null,
            "flex": null,
            "flex_flow": null,
            "grid_area": null,
            "grid_auto_columns": null,
            "grid_auto_flow": null,
            "grid_auto_rows": null,
            "grid_column": null,
            "grid_gap": null,
            "grid_row": null,
            "grid_template_areas": null,
            "grid_template_columns": null,
            "grid_template_rows": null,
            "height": null,
            "justify_content": null,
            "justify_items": null,
            "left": null,
            "margin": null,
            "max_height": null,
            "max_width": null,
            "min_height": null,
            "min_width": null,
            "object_fit": null,
            "object_position": null,
            "order": null,
            "overflow": null,
            "overflow_x": null,
            "overflow_y": null,
            "padding": null,
            "right": null,
            "top": null,
            "visibility": null,
            "width": null
          }
        }
      }
    }
  },
  "cells": [
    {
      "cell_type": "markdown",
      "metadata": {
        "id": "view-in-github",
        "colab_type": "text"
      },
      "source": [
        "<a href=\"https://colab.research.google.com/github/davidguzmanr/Aprendizaje-Profundo/blob/main/Tareas/Tarea-2/Tarea_2_ejercicio_1.ipynb\" target=\"_parent\"><img src=\"https://colab.research.google.com/assets/colab-badge.svg\" alt=\"Open In Colab\"/></a>"
      ]
    },
    {
      "cell_type": "markdown",
      "metadata": {
        "id": "R3O0S4CbHr1b"
      },
      "source": [
        "# Tarea 2: redes convolucionales\n",
        "\n",
        "- **E. David Guzmán Ramírez**\n",
        "- **Introducción al Aprendizaje Profundo 2021-II**\n",
        "- **Licenciatura en Ciencia de Datos CU UNAM**"
      ]
    },
    {
      "cell_type": "code",
      "metadata": {
        "colab": {
          "base_uri": "https://localhost:8080/"
        },
        "id": "8Pa_S9jlKk2K",
        "outputId": "90ffab61-dda4-40d6-d889-abf5111e78e2"
      },
      "source": [
        "! pip install torchinfo"
      ],
      "execution_count": null,
      "outputs": [
        {
          "output_type": "stream",
          "text": [
            "Requirement already satisfied: torchinfo in /home/david/Documentos/PyTorch-1.x/lib/python3.7/site-packages (0.0.8)\n"
          ],
          "name": "stdout"
        }
      ]
    },
    {
      "cell_type": "code",
      "metadata": {
        "id": "7afuFoYHKgmT"
      },
      "source": [
        "import numpy as np\n",
        "import pandas as pd\n",
        "import matplotlib.pyplot as plt\n",
        "import seaborn as sns\n",
        "\n",
        "import torch\n",
        "import torch.nn as nn\n",
        "import torch.nn.functional as F\n",
        "import torch.optim as optim\n",
        "import torchvision\n",
        "import torchvision.transforms as transforms\n",
        "from torchinfo import summary\n",
        "\n",
        "import random\n",
        "from collections import Counter\n",
        "from itertools import islice as take\n",
        "from tqdm import trange, tqdm\n",
        "\n",
        "sns.set_style('darkgrid')"
      ],
      "execution_count": null,
      "outputs": []
    },
    {
      "cell_type": "code",
      "metadata": {
        "id": "aH_J8QxvrqLb"
      },
      "source": [
        "def set_seed(seed=42):\n",
        "    \"\"\"Initializes pseudo-random number generators.\"\"\"\n",
        "    random.seed(seed)\n",
        "    np.random.seed(seed)\n",
        "    torch.manual_seed(seed)\n",
        "    \n",
        "# reproducibilidad\n",
        "set_seed()"
      ],
      "execution_count": null,
      "outputs": []
    },
    {
      "cell_type": "markdown",
      "metadata": {
        "id": "pAU-xH-7KNWM"
      },
      "source": [
        "## Ejercicio 1\n",
        "\n",
        "Diseña y entrena una red convolucional para el conjunto de datos CIFAR10. Explora diferentes diseños buscando mejorar tus resultados en el ejercicio 4 de la tarea 1. Discute tus resultados."
      ]
    },
    {
      "cell_type": "markdown",
      "metadata": {
        "id": "kZl79COhKa4S"
      },
      "source": [
        "### Carga de datos y exploración\n",
        "\n",
        "El conjunto de datos CIFAR-10 contiene 60,000 imágenes a color de 32x32 en 10 clases diferentes. Las 10 clases diferentes representan aviones, automóviles, pájaros, gatos, ciervos, perros, ranas, caballos, barcos y camiones. Hay 6.000 imágenes de cada clase (ver [CIFAR10 tutorial](https://pytorch.org/tutorials/beginner/blitz/cifar10_tutorial.html) para cargar el dataset de manera sencilla)."
      ]
    },
    {
      "cell_type": "code",
      "metadata": {
        "colab": {
          "base_uri": "https://localhost:8080/",
          "height": 121,
          "referenced_widgets": [
            "d497460d1474462e8e2b48b62d7104be",
            "ed5c7230c65c4f9e9a4d94e5c0e0769c",
            "769b609ddd204c8baa9bb0c9269e1aab",
            "465d5d5ed617453980b321edb021c891",
            "0743395b0a6049f6a09ae4f7332a3eae",
            "649c42c47e7449f2ae36d608c6104025",
            "be9adb59cf8d4ae5a336a046c1defe08",
            "eac7d81bac1a45509bec373bf5644849"
          ]
        },
        "id": "PTH0TdWDKwcD",
        "outputId": "231839d3-cb9a-4b5e-cb7a-c43bcf0826ce"
      },
      "source": [
        "# Los pasa a tensores y las normaliza con media=0.5 y desv_est=0.5 en cada canal.\n",
        "transform = transforms.Compose([transforms.ToTensor(), transforms.Normalize((0.5, 0.5, 0.5), (0.5, 0.5, 0.5))])\n",
        "\n",
        "trainset = torchvision.datasets.CIFAR10(root='./data', train=True, download=True, transform=transform)\n",
        "trainloader = torch.utils.data.DataLoader(trainset, batch_size=4, shuffle=True, num_workers=2)\n",
        "\n",
        "testset = torchvision.datasets.CIFAR10(root='./data', train=False, download=True, transform=transform)\n",
        "testloader = torch.utils.data.DataLoader(testset, batch_size=4, shuffle=True, num_workers=2)\n",
        "\n",
        "classes = ['plane', 'car', 'bird', 'cat', 'deer', 'dog', 'frog', 'horse', 'ship', 'truck']\n",
        "classes_dict = dict(zip(range(0,10), classes))"
      ],
      "execution_count": null,
      "outputs": [
        {
          "output_type": "stream",
          "text": [
            "Files already downloaded and verified\n",
            "Files already downloaded and verified\n"
          ],
          "name": "stdout"
        }
      ]
    },
    {
      "cell_type": "markdown",
      "metadata": {
        "id": "bc-dCTGJK-CF"
      },
      "source": [
        "Vemos que hay 50,000 imágenes en el dataset de entrenamiento y 10,000 en el de prueba. Además, tanto en el dataset de entrenamiento como el de prueba las clases están completamente balanceadas."
      ]
    },
    {
      "cell_type": "code",
      "metadata": {
        "colab": {
          "base_uri": "https://localhost:8080/"
        },
        "id": "Frj7wd6oK9Pi",
        "outputId": "0412f232-9f57-472d-e0ae-82ed47571186"
      },
      "source": [
        "len(trainset), len(testset)"
      ],
      "execution_count": null,
      "outputs": [
        {
          "output_type": "execute_result",
          "data": {
            "text/plain": [
              "(50000, 10000)"
            ]
          },
          "metadata": {
            "tags": []
          },
          "execution_count": 5
        }
      ]
    },
    {
      "cell_type": "code",
      "metadata": {
        "colab": {
          "base_uri": "https://localhost:8080/"
        },
        "id": "nkQeFyVWKyyP",
        "outputId": "592e91dc-dfe6-4e64-89e8-371390a86eff"
      },
      "source": [
        "train_class_counter = Counter([classes_dict[y] for (x, y) in trainset])\n",
        "train_class_counter"
      ],
      "execution_count": null,
      "outputs": [
        {
          "output_type": "execute_result",
          "data": {
            "text/plain": [
              "Counter({'frog': 5000,\n",
              "         'truck': 5000,\n",
              "         'deer': 5000,\n",
              "         'car': 5000,\n",
              "         'bird': 5000,\n",
              "         'horse': 5000,\n",
              "         'ship': 5000,\n",
              "         'cat': 5000,\n",
              "         'dog': 5000,\n",
              "         'plane': 5000})"
            ]
          },
          "metadata": {
            "tags": []
          },
          "execution_count": 6
        }
      ]
    },
    {
      "cell_type": "code",
      "metadata": {
        "colab": {
          "base_uri": "https://localhost:8080/"
        },
        "id": "87keNEauLA7w",
        "outputId": "e5f99a6e-6fa7-4d44-d4d0-c642e74a5300"
      },
      "source": [
        "test_class_counter = Counter([classes_dict[y] for (x, y) in testset])\n",
        "test_class_counter"
      ],
      "execution_count": null,
      "outputs": [
        {
          "output_type": "execute_result",
          "data": {
            "text/plain": [
              "Counter({'cat': 1000,\n",
              "         'ship': 1000,\n",
              "         'plane': 1000,\n",
              "         'frog': 1000,\n",
              "         'car': 1000,\n",
              "         'truck': 1000,\n",
              "         'dog': 1000,\n",
              "         'horse': 1000,\n",
              "         'deer': 1000,\n",
              "         'bird': 1000})"
            ]
          },
          "metadata": {
            "tags": []
          },
          "execution_count": 7
        }
      ]
    },
    {
      "cell_type": "markdown",
      "metadata": {
        "id": "I4euJBY9LG3e"
      },
      "source": [
        "Ahora veamos algunas imágenes en el dataset."
      ]
    },
    {
      "cell_type": "code",
      "metadata": {
        "id": "i_WACGEhLFFE"
      },
      "source": [
        "def show_images(images, true_labels, pred_labels=None):\n",
        "    \"\"\"\n",
        "    Muestra un lote de imágenes con su respectiva clase.\n",
        "    \"\"\"\n",
        "    fig, axes = plt.subplots(nrows=1, ncols=4, figsize=(20,5))\n",
        "\n",
        "    for i, _ in enumerate(axes):\n",
        "        axes[i].imshow(images[i].permute(1,2,0).numpy()/2 + 0.5) # Desnormalizamos\n",
        "        axes[i].axis('off')\n",
        "\n",
        "    if pred_labels:\n",
        "        for i, _ in enumerate(axes):\n",
        "            axes[i].set_title(f'true_label={classes_dict[true_labels[i].item()]}\\npred_label={classes_dict[pred_labels[i].item()]}')\n",
        "    else:\n",
        "        for i, _ in enumerate(axes):\n",
        "            axes[i].set_title(f'true_label={classes_dict[true_labels[i].item()]}')"
      ],
      "execution_count": null,
      "outputs": []
    },
    {
      "cell_type": "code",
      "metadata": {
        "colab": {
          "base_uri": "https://localhost:8080/",
          "height": 290
        },
        "id": "umN4kw68LICu",
        "outputId": "d41ad418-e745-41fe-b9c4-87a1db9d6342"
      },
      "source": [
        "images, true_labels = next(iter(trainloader))\n",
        "show_images(images, true_labels)"
      ],
      "execution_count": null,
      "outputs": [
        {
          "output_type": "display_data",
          "data": {
            "image/png": "[encoded data removed]",
            "text/plain": [
              "<Figure size 1440x360 with 4 Axes>"
            ]
          },
          "metadata": {
            "tags": []
          }
        }
      ]
    },
    {
      "cell_type": "markdown",
      "metadata": {
        "id": "B3m28lHOLPHw"
      },
      "source": [
        "### Definición del modelo\n",
        "\n",
        "Ahora definamos nuestro modelo, como estamos *aplanando* una imagen de $32 \\times 32 \\times 3$ la capa inicial es muy grande y en consecuencia tendremos muchos parámetros, por lo que es conveniente que las siguientes capas no sean muy grandes para que no haya tantos parámetros, pues de lo contrario tarda bastante en entrenar. Trataré con un modelo sencillo con sólo dos capas ocultas."
      ]
    },
    {
      "cell_type": "code",
      "metadata": {
        "colab": {
          "base_uri": "https://localhost:8080/"
        },
        "id": "gnb1lG1zLJq8",
        "outputId": "1aa74915-887e-4237-c934-901b91f22b13"
      },
      "source": [
        "device = torch.device('cuda:0' if torch.cuda.is_available() else 'cpu')\n",
        "# device = 'cpu'\n",
        "print(device)"
      ],
      "execution_count": null,
      "outputs": [
        {
          "output_type": "stream",
          "text": [
            "cuda:0\n"
          ],
          "name": "stdout"
        }
      ]
    },
    {
      "cell_type": "code",
      "metadata": {
        "id": "1EWFE8CfLT1d"
      },
      "source": [
        "class CNN(nn.Module):\n",
        "    # inicializador\n",
        "    def __init__(self):        \n",
        "        # inicilización del objeto padre\n",
        "        super(CNN, self).__init__()\n",
        "               \n",
        "        # definición de capas\n",
        "        self.conv1 = nn.Sequential(\n",
        "            # [M, 3, 32, 32] -> [M, 3, 30, 30]\n",
        "            nn.Conv2d(in_channels=3, out_channels=3, kernel_size=3, stride=1, padding=0),\n",
        "            nn.BatchNorm2d(num_features=3),\n",
        "            nn.ReLU(),\n",
        "            # [M, 3, 30, 30] -> [M, 3, 15, 15]\n",
        "            nn.MaxPool2d(kernel_size=2)\n",
        "        )\n",
        "        \n",
        "        self.conv2 = nn.Sequential(\n",
        "            # [M, 3, 15, 15] -> [M, 3, 13, 13]\n",
        "            nn.Conv2d(in_channels=3, out_channels=3, kernel_size=3, stride=1, padding=0),\n",
        "            nn.BatchNorm2d(num_features=3),\n",
        "            nn.ReLU(),\n",
        "            # [M, 3, 13, 13] -> [M, 3, 6, 6]\n",
        "            nn.MaxPool2d(kernel_size=2)\n",
        "        )\n",
        "\n",
        "        self.flatten = nn.Flatten()\n",
        "\n",
        "        self.cls = nn.Sequential(\n",
        "            nn.Linear(3*6*6, 50),\n",
        "            nn.ReLU(),\n",
        "            nn.Linear(50, 30),\n",
        "            nn.ReLU(),\n",
        "            nn.Linear(30, 10)\n",
        "        )\n",
        "    \n",
        "    # método para inferencia\n",
        "    def forward(self, x):        \n",
        "        x = self.conv1(x)\n",
        "        x = self.conv2(x)\n",
        "        x = self.flatten(x)\n",
        "        x = self.cls(x)\n",
        "        \n",
        "        return x"
      ],
      "execution_count": null,
      "outputs": []
    },
    {
      "cell_type": "code",
      "metadata": {
        "id": "IMEDFSe8rqLf",
        "outputId": "b73e9d86-c426-4cc1-c409-e00ca52ec0d3"
      },
      "source": [
        "conv1 = nn.Sequential(\n",
        "            # [M, 3, 32, 32] -> [M, 3, 30, 30]\n",
        "            nn.Conv2d(in_channels=3, out_channels=3, kernel_size=3, stride=1, padding=0),\n",
        "            nn.BatchNorm2d(num_features=3),\n",
        "            nn.ReLU(),\n",
        "            nn.MaxPool2d(kernel_size=2)\n",
        "        )\n",
        "\n",
        "x = torch.zeros(1,3,15,15)\n",
        "conv1(x).shape"
      ],
      "execution_count": null,
      "outputs": [
        {
          "output_type": "execute_result",
          "data": {
            "text/plain": [
              "torch.Size([1, 3, 6, 6])"
            ]
          },
          "metadata": {
            "tags": []
          },
          "execution_count": 12
        }
      ]
    },
    {
      "cell_type": "code",
      "metadata": {
        "id": "yC10nKe_LccT"
      },
      "source": [
        "def train_epoch(dataloader, model, opt):\n",
        "\n",
        "    # por cada lote\n",
        "    for x, y_true in dataloader:\n",
        "        # Los pasamos a la GPU, en caso de que haya\n",
        "        x, y_true = x.to(device), y_true.to(device)\n",
        "        \n",
        "        # computamos logits\n",
        "        y_lgts = model(x)\n",
        "        \n",
        "        # computamos la pérdida\n",
        "        loss = F.cross_entropy(y_lgts, y_true)\n",
        "        \n",
        "        # vaciamos los gradientes\n",
        "        opt.zero_grad()\n",
        "        \n",
        "        # retropropagamos\n",
        "        loss.backward()\n",
        "        \n",
        "        # actualizamos parámetros\n",
        "        opt.step()"
      ],
      "execution_count": null,
      "outputs": []
    },
    {
      "cell_type": "code",
      "metadata": {
        "id": "l_bA5-6fLdBl"
      },
      "source": [
        "def eval_epoch(dl, model, num_batches=None):\n",
        "\n",
        "    # evitamos que se registren las operaciones \n",
        "    # en la gráfica de cómputo\n",
        "    with torch.no_grad():\n",
        "\n",
        "        # historiales\n",
        "        losses, accs = [], []\n",
        "\n",
        "        # validación de la época con num_batches\n",
        "        # si num_batches==None, se usan todos los lotes\n",
        "        for x, y_true in take(dl, num_batches):\n",
        "            # Los pasamos a la GPU, en caso de que haya\n",
        "            x, y_true = x.to(device), y_true.to(device)\n",
        "\n",
        "            # computamos los logits\n",
        "            y_lgts = model(x)\n",
        "\n",
        "            # computamos los puntajes\n",
        "            y_prob = F.softmax(y_lgts, 1)\n",
        "\n",
        "            # computamos la clases\n",
        "            y_pred = torch.argmax(y_prob, 1)\n",
        "\n",
        "            # computamos la pérdida\n",
        "            loss = F.cross_entropy(y_lgts, y_true)\n",
        "\n",
        "            # computamos la exactitud\n",
        "            acc = (y_true == y_pred).type(torch.float32).mean()\n",
        "\n",
        "            # guardamos históricos\n",
        "            losses.append(loss.item())\n",
        "            accs.append(acc.item())\n",
        "\n",
        "        # promediamos\n",
        "        loss = np.mean(losses) * 100\n",
        "        acc = np.mean(accs) * 100\n",
        "\n",
        "        return loss, acc"
      ],
      "execution_count": null,
      "outputs": []
    },
    {
      "cell_type": "code",
      "metadata": {
        "id": "ZBSHBwOaLe0H"
      },
      "source": [
        "def train(model, trn_dl, tst_dl, lr=1e-3, epochs=20, trn_batches=None, tst_batches=None):\n",
        "\n",
        "    # historiales\n",
        "    loss_hist, acc_hist = [], []\n",
        "    \n",
        "    # optimizador\n",
        "    opt = optim.Adam(model.parameters(), lr=lr)\n",
        "\n",
        "    # ciclo de entrenamiento\n",
        "    for epoch in trange(epochs):\n",
        "\n",
        "        # entrenamos la época\n",
        "        train_epoch(trn_dl, model, opt)\n",
        "\n",
        "        # evaluamos la época en entrenamiento\n",
        "        trn_loss, trn_acc = eval_epoch(trn_dl, model, trn_batches)\n",
        "        # evaluamos la época en prueba\n",
        "        tst_loss, tst_acc = eval_epoch(tst_dl, model, tst_batches)\n",
        "\n",
        "        # guardamos historial\n",
        "        loss_hist.append([trn_loss, tst_loss])\n",
        "        acc_hist.append([trn_acc, tst_acc])\n",
        "\n",
        "        # imprimimos progreso\n",
        "        print(f'E{epoch:02} '\n",
        "              f'loss=[{trn_loss:6.2f},{tst_loss:6.2f}] '\n",
        "              f'acc=[{trn_acc:5.2f},{tst_acc:5.2f}]')\n",
        "\n",
        "    return loss_hist, acc_hist"
      ],
      "execution_count": null,
      "outputs": []
    },
    {
      "cell_type": "markdown",
      "metadata": {
        "id": "UlQoFyICLyqJ"
      },
      "source": [
        "Instanciamos nuestro modelo y vemos cuántos parámetros tiene."
      ]
    },
    {
      "cell_type": "code",
      "metadata": {
        "colab": {
          "base_uri": "https://localhost:8080/"
        },
        "id": "Yk2xq4TsLzmW",
        "outputId": "e1042a15-9b8c-4d30-f4ac-baeb0a3416d6"
      },
      "source": [
        "torch.manual_seed(42)\n",
        "\n",
        "# Definimos nuestro modelo y probamos con unos datos sintéticos\n",
        "model = CNN()\n",
        "x = torch.zeros(1,3,32,32)\n",
        "model(x)"
      ],
      "execution_count": null,
      "outputs": [
        {
          "output_type": "execute_result",
          "data": {
            "text/plain": [
              "tensor([[-0.0482,  0.1432,  0.0560,  0.1393,  0.1065, -0.1293,  0.0338, -0.0166,\n",
              "          0.0763,  0.0782]], grad_fn=<AddmmBackward>)"
            ]
          },
          "metadata": {
            "tags": []
          },
          "execution_count": 16
        }
      ]
    },
    {
      "cell_type": "code",
      "metadata": {
        "colab": {
          "base_uri": "https://localhost:8080/"
        },
        "id": "HUXh469zL1QU",
        "outputId": "48f36ade-8c0e-4c52-b81a-02aa811717c1"
      },
      "source": [
        "# Lo movemos a la GPU, en caso de que haya\n",
        "model.to(device)"
      ],
      "execution_count": null,
      "outputs": [
        {
          "output_type": "execute_result",
          "data": {
            "text/plain": [
              "CNN(\n",
              "  (conv1): Sequential(\n",
              "    (0): Conv2d(3, 3, kernel_size=(3, 3), stride=(1, 1))\n",
              "    (1): BatchNorm2d(3, eps=1e-05, momentum=0.1, affine=True, track_running_stats=True)\n",
              "    (2): ReLU()\n",
              "    (3): MaxPool2d(kernel_size=2, stride=2, padding=0, dilation=1, ceil_mode=False)\n",
              "  )\n",
              "  (conv2): Sequential(\n",
              "    (0): Conv2d(3, 3, kernel_size=(3, 3), stride=(1, 1))\n",
              "    (1): BatchNorm2d(3, eps=1e-05, momentum=0.1, affine=True, track_running_stats=True)\n",
              "    (2): ReLU()\n",
              "    (3): MaxPool2d(kernel_size=2, stride=2, padding=0, dilation=1, ceil_mode=False)\n",
              "  )\n",
              "  (flatten): Flatten(start_dim=1, end_dim=-1)\n",
              "  (cls): Sequential(\n",
              "    (0): Linear(in_features=108, out_features=50, bias=True)\n",
              "    (1): ReLU()\n",
              "    (2): Linear(in_features=50, out_features=30, bias=True)\n",
              "    (3): ReLU()\n",
              "    (4): Linear(in_features=30, out_features=10, bias=True)\n",
              "  )\n",
              ")"
            ]
          },
          "metadata": {
            "tags": []
          },
          "execution_count": 17
        }
      ]
    },
    {
      "cell_type": "code",
      "metadata": {
        "colab": {
          "base_uri": "https://localhost:8080/"
        },
        "id": "b57cUm53MBPv",
        "outputId": "90fee5ab-9170-4fa7-c307-98f324a8f85e"
      },
      "source": [
        "summary(model, input_size=(1, 3, 32, 32), device=device, verbose=0)"
      ],
      "execution_count": null,
      "outputs": [
        {
          "output_type": "execute_result",
          "data": {
            "text/plain": [
              "==========================================================================================\n",
              "Layer (type:depth-idx)                   Output Shape              Param #\n",
              "==========================================================================================\n",
              "├─Sequential: 1-1                        [1, 3, 15, 15]            --\n",
              "|    └─Conv2d: 2-1                       [1, 3, 30, 30]            84\n",
              "|    └─BatchNorm2d: 2-2                  [1, 3, 30, 30]            6\n",
              "|    └─ReLU: 2-3                         [1, 3, 30, 30]            --\n",
              "|    └─MaxPool2d: 2-4                    [1, 3, 15, 15]            --\n",
              "├─Sequential: 1-2                        [1, 3, 6, 6]              --\n",
              "|    └─Conv2d: 2-5                       [1, 3, 13, 13]            84\n",
              "|    └─BatchNorm2d: 2-6                  [1, 3, 13, 13]            6\n",
              "|    └─ReLU: 2-7                         [1, 3, 13, 13]            --\n",
              "|    └─MaxPool2d: 2-8                    [1, 3, 6, 6]              --\n",
              "├─Flatten: 1-3                           [1, 108]                  --\n",
              "├─Sequential: 1-4                        [1, 10]                   --\n",
              "|    └─Linear: 2-9                       [1, 50]                   5,450\n",
              "|    └─ReLU: 2-10                        [1, 50]                   --\n",
              "|    └─Linear: 2-11                      [1, 30]                   1,530\n",
              "|    └─ReLU: 2-12                        [1, 30]                   --\n",
              "|    └─Linear: 2-13                      [1, 10]                   310\n",
              "==========================================================================================\n",
              "Total params: 7,470\n",
              "Trainable params: 7,470\n",
              "Non-trainable params: 0\n",
              "Total mult-adds (M): 0.10\n",
              "==========================================================================================\n",
              "Input size (MB): 0.01\n",
              "Forward/backward pass size (MB): 0.05\n",
              "Params size (MB): 0.03\n",
              "Estimated Total Size (MB): 0.09\n",
              "=========================================================================================="
            ]
          },
          "metadata": {
            "tags": []
          },
          "execution_count": 18
        }
      ]
    },
    {
      "cell_type": "markdown",
      "metadata": {
        "id": "F_o0EW26MQyd"
      },
      "source": [
        "### Entrenamiento"
      ]
    },
    {
      "cell_type": "code",
      "metadata": {
        "colab": {
          "base_uri": "https://localhost:8080/"
        },
        "id": "hia3aIWEMIPd",
        "outputId": "a925da83-aa62-448d-c482-196c51107a9a"
      },
      "source": [
        "loss_hist, acc_hist = train(model, trainloader, testloader, lr=0.001)"
      ],
      "execution_count": null,
      "outputs": [
        {
          "output_type": "stream",
          "text": [
            "  5%|▌         | 1/20 [00:55<17:30, 55.30s/it]"
          ],
          "name": "stderr"
        },
        {
          "output_type": "stream",
          "text": [
            "E00 loss=[161.05,162.26] acc=[43.30,42.94]\n"
          ],
          "name": "stdout"
        },
        {
          "output_type": "stream",
          "text": [
            " 10%|█         | 2/20 [01:50<16:39, 55.53s/it]"
          ],
          "name": "stderr"
        },
        {
          "output_type": "stream",
          "text": [
            "E01 loss=[151.23,154.15] acc=[46.25,44.93]\n"
          ],
          "name": "stdout"
        },
        {
          "output_type": "stream",
          "text": [
            " 15%|█▌        | 3/20 [02:48<16:01, 56.57s/it]"
          ],
          "name": "stderr"
        },
        {
          "output_type": "stream",
          "text": [
            "E02 loss=[149.75,153.49] acc=[46.99,45.28]\n"
          ],
          "name": "stdout"
        },
        {
          "output_type": "stream",
          "text": [
            " 20%|██        | 4/20 [03:45<15:05, 56.57s/it]"
          ],
          "name": "stderr"
        },
        {
          "output_type": "stream",
          "text": [
            "E03 loss=[143.68,147.94] acc=[49.32,47.62]\n"
          ],
          "name": "stdout"
        },
        {
          "output_type": "stream",
          "text": [
            " 25%|██▌       | 5/20 [04:43<14:15, 57.02s/it]"
          ],
          "name": "stderr"
        },
        {
          "output_type": "stream",
          "text": [
            "E04 loss=[140.29,145.42] acc=[50.78,48.69]\n"
          ],
          "name": "stdout"
        },
        {
          "output_type": "stream",
          "text": [
            " 30%|███       | 6/20 [05:38<13:10, 56.46s/it]"
          ],
          "name": "stderr"
        },
        {
          "output_type": "stream",
          "text": [
            "E05 loss=[137.56,142.82] acc=[51.66,50.12]\n"
          ],
          "name": "stdout"
        },
        {
          "output_type": "stream",
          "text": [
            " 35%|███▌      | 7/20 [06:34<12:10, 56.20s/it]"
          ],
          "name": "stderr"
        },
        {
          "output_type": "stream",
          "text": [
            "E06 loss=[135.21,141.29] acc=[52.17,50.41]\n"
          ],
          "name": "stdout"
        },
        {
          "output_type": "stream",
          "text": [
            " 40%|████      | 8/20 [07:28<11:06, 55.56s/it]"
          ],
          "name": "stderr"
        },
        {
          "output_type": "stream",
          "text": [
            "E07 loss=[136.20,142.33] acc=[51.93,50.26]\n"
          ],
          "name": "stdout"
        },
        {
          "output_type": "stream",
          "text": [
            " 45%|████▌     | 9/20 [08:22<10:05, 55.03s/it]"
          ],
          "name": "stderr"
        },
        {
          "output_type": "stream",
          "text": [
            "E08 loss=[138.08,145.32] acc=[51.49,49.50]\n"
          ],
          "name": "stdout"
        },
        {
          "output_type": "stream",
          "text": [
            " 50%|█████     | 10/20 [09:17<09:12, 55.22s/it]"
          ],
          "name": "stderr"
        },
        {
          "output_type": "stream",
          "text": [
            "E09 loss=[133.05,141.10] acc=[53.30,50.59]\n"
          ],
          "name": "stdout"
        },
        {
          "output_type": "stream",
          "text": [
            " 55%|█████▌    | 11/20 [10:13<08:16, 55.21s/it]"
          ],
          "name": "stderr"
        },
        {
          "output_type": "stream",
          "text": [
            "E10 loss=[131.35,139.32] acc=[53.88,51.41]\n"
          ],
          "name": "stdout"
        },
        {
          "output_type": "stream",
          "text": [
            " 60%|██████    | 12/20 [11:08<07:22, 55.33s/it]"
          ],
          "name": "stderr"
        },
        {
          "output_type": "stream",
          "text": [
            "E11 loss=[132.16,139.55] acc=[53.47,50.84]\n"
          ],
          "name": "stdout"
        },
        {
          "output_type": "stream",
          "text": [
            " 65%|██████▌   | 13/20 [12:04<06:28, 55.49s/it]"
          ],
          "name": "stderr"
        },
        {
          "output_type": "stream",
          "text": [
            "E12 loss=[131.76,139.74] acc=[53.65,50.81]\n"
          ],
          "name": "stdout"
        },
        {
          "output_type": "stream",
          "text": [
            " 70%|███████   | 14/20 [13:02<05:37, 56.26s/it]"
          ],
          "name": "stderr"
        },
        {
          "output_type": "stream",
          "text": [
            "E13 loss=[130.64,139.14] acc=[54.16,51.33]\n"
          ],
          "name": "stdout"
        },
        {
          "output_type": "stream",
          "text": [
            " 75%|███████▌  | 15/20 [14:01<04:45, 57.16s/it]"
          ],
          "name": "stderr"
        },
        {
          "output_type": "stream",
          "text": [
            "E14 loss=[130.94,139.32] acc=[54.22,51.63]\n"
          ],
          "name": "stdout"
        },
        {
          "output_type": "stream",
          "text": [
            " 80%|████████  | 16/20 [15:00<03:50, 57.63s/it]"
          ],
          "name": "stderr"
        },
        {
          "output_type": "stream",
          "text": [
            "E15 loss=[129.13,138.49] acc=[54.56,52.04]\n"
          ],
          "name": "stdout"
        },
        {
          "output_type": "stream",
          "text": [
            " 85%|████████▌ | 17/20 [15:55<02:50, 56.93s/it]"
          ],
          "name": "stderr"
        },
        {
          "output_type": "stream",
          "text": [
            "E16 loss=[129.32,138.02] acc=[54.40,51.54]\n"
          ],
          "name": "stdout"
        },
        {
          "output_type": "stream",
          "text": [
            " 90%|█████████ | 18/20 [16:52<01:53, 56.98s/it]"
          ],
          "name": "stderr"
        },
        {
          "output_type": "stream",
          "text": [
            "E17 loss=[130.41,139.29] acc=[54.15,51.19]\n"
          ],
          "name": "stdout"
        },
        {
          "output_type": "stream",
          "text": [
            " 95%|█████████▌| 19/20 [17:48<00:56, 56.62s/it]"
          ],
          "name": "stderr"
        },
        {
          "output_type": "stream",
          "text": [
            "E18 loss=[127.60,137.12] acc=[55.05,51.84]\n"
          ],
          "name": "stdout"
        },
        {
          "output_type": "stream",
          "text": [
            "100%|██████████| 20/20 [18:44<00:00, 56.25s/it]"
          ],
          "name": "stderr"
        },
        {
          "output_type": "stream",
          "text": [
            "E19 loss=[126.79,137.34] acc=[55.28,51.77]\n"
          ],
          "name": "stdout"
        },
        {
          "output_type": "stream",
          "text": [
            "\n"
          ],
          "name": "stderr"
        }
      ]
    },
    {
      "cell_type": "markdown",
      "metadata": {
        "id": "LHS_HNtEMZjg"
      },
      "source": [
        "### Gráficas de pérdida y accuracy"
      ]
    },
    {
      "cell_type": "code",
      "metadata": {
        "colab": {
          "base_uri": "https://localhost:8080/",
          "height": 390
        },
        "id": "4Sm1ohXJMaFz",
        "outputId": "df6652c3-02ed-46c7-fe88-06e3e0205350"
      },
      "source": [
        "fig, (ax0, ax1) = plt.subplots(nrows=1, ncols=2, figsize=(20,6))\n",
        "\n",
        "trn_loss, tst_loss = zip(*loss_hist)\n",
        "ax0.plot(trn_loss, 'orange', label='Train loss')\n",
        "ax0.plot(tst_loss, 'red', label='Test loss')\n",
        "ax0.set_xlabel('Época', weight='bold')\n",
        "ax0.set_ylabel('Loss', weight='bold')\n",
        "ax0.legend()\n",
        "\n",
        "trn_acc, tst_acc = zip(*acc_hist)\n",
        "ax1.plot(trn_acc, 'green', label='Train acc')\n",
        "ax1.plot(tst_acc, 'blue', label='Test acc')\n",
        "ax1.set_xlabel('Época', weight='bold')\n",
        "ax1.set_ylabel('exactitud', weight='bold')\n",
        "ax1.legend()\n",
        "\n",
        "plt.show()"
      ],
      "execution_count": null,
      "outputs": [
        {
          "output_type": "display_data",
          "data": {
            "image/png": "[encoded data removed]",
            "text/plain": [
              "<Figure size 1440x432 with 2 Axes>"
            ]
          },
          "metadata": {
            "tags": []
          }
        }
      ]
    },
    {
      "cell_type": "markdown",
      "metadata": {
        "id": "a6RjmybyMfdS"
      },
      "source": [
        "### Evaluación final"
      ]
    },
    {
      "cell_type": "code",
      "metadata": {
        "colab": {
          "base_uri": "https://localhost:8080/"
        },
        "id": "b7eh9BPRMbOP",
        "outputId": "316ec40d-f955-4780-dbc1-0a0499db6a40"
      },
      "source": [
        "# Evaluamos en entrenamiento\n",
        "trn_loss, trn_acc = eval_epoch(trainloader, model)\n",
        "# Evaluamos en prueba\n",
        "tst_loss, tst_acc = eval_epoch(testloader, model)\n",
        "\n",
        "print(f'loss=[{trn_loss:6.2f},{tst_loss:6.2f}] '\n",
        "      f'acc=[{trn_acc:5.2f},{tst_acc:5.2f}]')"
      ],
      "execution_count": null,
      "outputs": [
        {
          "output_type": "stream",
          "text": [
            "loss=[126.73,136.57] acc=[55.35,51.90]\n"
          ],
          "name": "stdout"
        }
      ]
    },
    {
      "cell_type": "markdown",
      "metadata": {
        "id": "ZeWkoCzKMhxy"
      },
      "source": [
        "### Predicciones"
      ]
    },
    {
      "cell_type": "code",
      "metadata": {
        "colab": {
          "base_uri": "https://localhost:8080/",
          "height": 305
        },
        "id": "OJM5vnoqMirT",
        "outputId": "e1ea4e47-7339-4363-da96-4e55b5d73f32"
      },
      "source": [
        "with torch.no_grad(): \n",
        "    images, true_labels = next(iter(testloader))\n",
        "    images = images.to(device)\n",
        "    y_lgts = model(images.to(device))\n",
        "    y_prob = F.softmax(y_lgts, 1)\n",
        "    y_pred = torch.argmax(y_prob, 1)\n",
        "    pred_labels = list(y_pred.cpu().numpy())\n",
        "\n",
        "    show_images(images.cpu(), true_labels, pred_labels)"
      ],
      "execution_count": null,
      "outputs": [
        {
          "output_type": "display_data",
          "data": {
            "image/png": "[encoded data removed]",
            "text/plain": [
              "<Figure size 1440x360 with 4 Axes>"
            ]
          },
          "metadata": {
            "tags": []
          }
        }
      ]
    },
    {
      "cell_type": "markdown",
      "metadata": {
        "id": "yq2ev0HoMj5B"
      },
      "source": [
        "### Discusión\n",
        "\n",
        "|             **Modelo**            | **# de parámetros** | **Tiempo (GPU)** | **Accuracy (train, test)** |\n",
        "|:---------------------------------:|:-------------------:|:----------------:|:--------------------------:|\n",
        "|           FCN (tarea 1)           |        61,670       |       09:35      |        51.33, 46.14        |\n",
        "|   CNN (MaxPool2d y BatchNorm2d)   |        7,470        |       19:40      |        54.28, 50.78        |\n",
        "| CNN (MaxPool2d y sin BatchNorm2d) |        7,458        |       17:12      |        53.33, 50.15        |\n",
        "|   CNN (AvgPool2d y BatchNorm2d)   |        7,470        |       19:40      |        53.06, 49.47        |\n",
        "| CNN (AvgPool2d y sin BatchNorm2d) |        7,458        |       15:56      |        51.00, 47.79        |"
      ]
    }
  ]
}