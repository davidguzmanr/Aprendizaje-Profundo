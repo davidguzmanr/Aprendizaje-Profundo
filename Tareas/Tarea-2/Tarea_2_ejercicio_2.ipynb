{
 "cells": [
  {
   "cell_type": "markdown",
   "id": "constitutional-instruction",
   "metadata": {},
   "source": [
    "# Tarea 2: perceptrón y redes densas\n",
    "\n",
    "- **E. David Guzmán Ramírez**\n",
    "- **Introducción al Aprendizaje Profundo 2021-II**\n",
    "- **Licenciatura en Ciencia de Datos CU UNAM**"
   ]
  },
  {
   "cell_type": "code",
   "execution_count": null,
   "id": "virgin-equipment",
   "metadata": {},
   "outputs": [],
   "source": [
    "! pip install torchinfo"
   ]
  },
  {
   "cell_type": "code",
   "execution_count": null,
   "id": "binding-trace",
   "metadata": {},
   "outputs": [],
   "source": [
    "import numpy as np\n",
    "import pandas as pd\n",
    "import matplotlib.pyplot as plt\n",
    "import seaborn as sns\n",
    "\n",
    "import torch\n",
    "import torch.nn as nn\n",
    "import torch.nn.functional as F\n",
    "import torch.optim as optim\n",
    "import torchvision\n",
    "import torchvision.transforms as transforms\n",
    "from torchinfo import summary\n",
    "\n",
    "from collections import Counter\n",
    "from itertools import islice as take\n",
    "from tqdm import trange, tqdm\n",
    "\n",
    "sns.set_style('darkgrid')"
   ]
  },
  {
   "cell_type": "markdown",
   "id": "statewide-definition",
   "metadata": {},
   "source": [
    "## Ejercicio 2\n",
    "\n",
    "Extiende la libreta [2b_comida_inception.ipynb](https://github.com/bereml/iap/blob/master/libretas/2b_comida_inception.ipynb) para implementar y entrenar la arquitectura tipo ResNet que se especifica en la figura 1."
   ]
  },
  {
   "cell_type": "code",
   "execution_count": null,
   "id": "announced-warning",
   "metadata": {},
   "outputs": [],
   "source": []
  }
 ],
 "metadata": {
  "kernelspec": {
   "display_name": "Python 3",
   "language": "python",
   "name": "python3"
  },
  "language_info": {
   "codemirror_mode": {
    "name": "ipython",
    "version": 3
   },
   "file_extension": ".py",
   "mimetype": "text/x-python",
   "name": "python",
   "nbconvert_exporter": "python",
   "pygments_lexer": "ipython3",
   "version": "3.7.3"
  }
 },
 "nbformat": 4,
 "nbformat_minor": 5
}
